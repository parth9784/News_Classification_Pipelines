{
  "nbformat": 4,
  "nbformat_minor": 0,
  "metadata": {
    "colab": {
      "provenance": []
    },
    "kernelspec": {
      "name": "python3",
      "display_name": "Python 3"
    },
    "language_info": {
      "name": "python"
    }
  },
  "cells": [
    {
      "cell_type": "code",
      "source": [
        "print(\"Shree\")"
      ],
      "metadata": {
        "colab": {
          "base_uri": "https://localhost:8080/"
        },
        "id": "HQVhfyYUqMI3",
        "outputId": "eec5c996-5d09-4074-89aa-bcdea9e89f3a"
      },
      "execution_count": 1,
      "outputs": [
        {
          "output_type": "stream",
          "name": "stdout",
          "text": [
            "Shree\n"
          ]
        }
      ]
    },
    {
      "cell_type": "code",
      "source": [
        "pip install spacy"
      ],
      "metadata": {
        "colab": {
          "base_uri": "https://localhost:8080/"
        },
        "id": "WlWhS0GJhCVx",
        "outputId": "4b84340d-24ef-47ba-fe21-d5da6a2791c2"
      },
      "execution_count": 16,
      "outputs": [
        {
          "output_type": "stream",
          "name": "stdout",
          "text": [
            "Requirement already satisfied: spacy in /usr/local/lib/python3.10/dist-packages (3.7.5)\n",
            "Requirement already satisfied: spacy-legacy<3.1.0,>=3.0.11 in /usr/local/lib/python3.10/dist-packages (from spacy) (3.0.12)\n",
            "Requirement already satisfied: spacy-loggers<2.0.0,>=1.0.0 in /usr/local/lib/python3.10/dist-packages (from spacy) (1.0.5)\n",
            "Requirement already satisfied: murmurhash<1.1.0,>=0.28.0 in /usr/local/lib/python3.10/dist-packages (from spacy) (1.0.10)\n",
            "Requirement already satisfied: cymem<2.1.0,>=2.0.2 in /usr/local/lib/python3.10/dist-packages (from spacy) (2.0.8)\n",
            "Requirement already satisfied: preshed<3.1.0,>=3.0.2 in /usr/local/lib/python3.10/dist-packages (from spacy) (3.0.9)\n",
            "Requirement already satisfied: thinc<8.3.0,>=8.2.2 in /usr/local/lib/python3.10/dist-packages (from spacy) (8.2.5)\n",
            "Requirement already satisfied: wasabi<1.2.0,>=0.9.1 in /usr/local/lib/python3.10/dist-packages (from spacy) (1.1.3)\n",
            "Requirement already satisfied: srsly<3.0.0,>=2.4.3 in /usr/local/lib/python3.10/dist-packages (from spacy) (2.4.8)\n",
            "Requirement already satisfied: catalogue<2.1.0,>=2.0.6 in /usr/local/lib/python3.10/dist-packages (from spacy) (2.0.10)\n",
            "Requirement already satisfied: weasel<0.5.0,>=0.1.0 in /usr/local/lib/python3.10/dist-packages (from spacy) (0.4.1)\n",
            "Requirement already satisfied: typer<1.0.0,>=0.3.0 in /usr/local/lib/python3.10/dist-packages (from spacy) (0.12.3)\n",
            "Requirement already satisfied: tqdm<5.0.0,>=4.38.0 in /usr/local/lib/python3.10/dist-packages (from spacy) (4.66.4)\n",
            "Requirement already satisfied: requests<3.0.0,>=2.13.0 in /usr/local/lib/python3.10/dist-packages (from spacy) (2.31.0)\n",
            "Requirement already satisfied: pydantic!=1.8,!=1.8.1,<3.0.0,>=1.7.4 in /usr/local/lib/python3.10/dist-packages (from spacy) (2.8.0)\n",
            "Requirement already satisfied: jinja2 in /usr/local/lib/python3.10/dist-packages (from spacy) (3.1.4)\n",
            "Requirement already satisfied: setuptools in /usr/local/lib/python3.10/dist-packages (from spacy) (67.7.2)\n",
            "Requirement already satisfied: packaging>=20.0 in /usr/local/lib/python3.10/dist-packages (from spacy) (24.1)\n",
            "Requirement already satisfied: langcodes<4.0.0,>=3.2.0 in /usr/local/lib/python3.10/dist-packages (from spacy) (3.4.0)\n",
            "Requirement already satisfied: numpy>=1.19.0 in /usr/local/lib/python3.10/dist-packages (from spacy) (1.25.2)\n",
            "Requirement already satisfied: language-data>=1.2 in /usr/local/lib/python3.10/dist-packages (from langcodes<4.0.0,>=3.2.0->spacy) (1.2.0)\n",
            "Requirement already satisfied: annotated-types>=0.4.0 in /usr/local/lib/python3.10/dist-packages (from pydantic!=1.8,!=1.8.1,<3.0.0,>=1.7.4->spacy) (0.7.0)\n",
            "Requirement already satisfied: pydantic-core==2.20.0 in /usr/local/lib/python3.10/dist-packages (from pydantic!=1.8,!=1.8.1,<3.0.0,>=1.7.4->spacy) (2.20.0)\n",
            "Requirement already satisfied: typing-extensions>=4.6.1 in /usr/local/lib/python3.10/dist-packages (from pydantic!=1.8,!=1.8.1,<3.0.0,>=1.7.4->spacy) (4.12.2)\n",
            "Requirement already satisfied: charset-normalizer<4,>=2 in /usr/local/lib/python3.10/dist-packages (from requests<3.0.0,>=2.13.0->spacy) (3.3.2)\n",
            "Requirement already satisfied: idna<4,>=2.5 in /usr/local/lib/python3.10/dist-packages (from requests<3.0.0,>=2.13.0->spacy) (3.7)\n",
            "Requirement already satisfied: urllib3<3,>=1.21.1 in /usr/local/lib/python3.10/dist-packages (from requests<3.0.0,>=2.13.0->spacy) (2.0.7)\n",
            "Requirement already satisfied: certifi>=2017.4.17 in /usr/local/lib/python3.10/dist-packages (from requests<3.0.0,>=2.13.0->spacy) (2024.6.2)\n",
            "Requirement already satisfied: blis<0.8.0,>=0.7.8 in /usr/local/lib/python3.10/dist-packages (from thinc<8.3.0,>=8.2.2->spacy) (0.7.11)\n",
            "Requirement already satisfied: confection<1.0.0,>=0.0.1 in /usr/local/lib/python3.10/dist-packages (from thinc<8.3.0,>=8.2.2->spacy) (0.1.5)\n",
            "Requirement already satisfied: click>=8.0.0 in /usr/local/lib/python3.10/dist-packages (from typer<1.0.0,>=0.3.0->spacy) (8.1.7)\n",
            "Requirement already satisfied: shellingham>=1.3.0 in /usr/local/lib/python3.10/dist-packages (from typer<1.0.0,>=0.3.0->spacy) (1.5.4)\n",
            "Requirement already satisfied: rich>=10.11.0 in /usr/local/lib/python3.10/dist-packages (from typer<1.0.0,>=0.3.0->spacy) (13.7.1)\n",
            "Requirement already satisfied: cloudpathlib<1.0.0,>=0.7.0 in /usr/local/lib/python3.10/dist-packages (from weasel<0.5.0,>=0.1.0->spacy) (0.18.1)\n",
            "Requirement already satisfied: smart-open<8.0.0,>=5.2.1 in /usr/local/lib/python3.10/dist-packages (from weasel<0.5.0,>=0.1.0->spacy) (7.0.4)\n",
            "Requirement already satisfied: MarkupSafe>=2.0 in /usr/local/lib/python3.10/dist-packages (from jinja2->spacy) (2.1.5)\n",
            "Requirement already satisfied: marisa-trie>=0.7.7 in /usr/local/lib/python3.10/dist-packages (from language-data>=1.2->langcodes<4.0.0,>=3.2.0->spacy) (1.2.0)\n",
            "Requirement already satisfied: markdown-it-py>=2.2.0 in /usr/local/lib/python3.10/dist-packages (from rich>=10.11.0->typer<1.0.0,>=0.3.0->spacy) (3.0.0)\n",
            "Requirement already satisfied: pygments<3.0.0,>=2.13.0 in /usr/local/lib/python3.10/dist-packages (from rich>=10.11.0->typer<1.0.0,>=0.3.0->spacy) (2.16.1)\n",
            "Requirement already satisfied: wrapt in /usr/local/lib/python3.10/dist-packages (from smart-open<8.0.0,>=5.2.1->weasel<0.5.0,>=0.1.0->spacy) (1.14.1)\n",
            "Requirement already satisfied: mdurl~=0.1 in /usr/local/lib/python3.10/dist-packages (from markdown-it-py>=2.2.0->rich>=10.11.0->typer<1.0.0,>=0.3.0->spacy) (0.1.2)\n"
          ]
        }
      ]
    },
    {
      "cell_type": "code",
      "source": [
        "!python -m spacy download en_core_web_lg"
      ],
      "metadata": {
        "colab": {
          "base_uri": "https://localhost:8080/"
        },
        "id": "3yuL90UzhCSI",
        "outputId": "f6999658-d589-43dc-da97-a58ec1e3657e"
      },
      "execution_count": 47,
      "outputs": [
        {
          "output_type": "stream",
          "name": "stdout",
          "text": [
            "Collecting en-core-web-lg==3.7.1\n",
            "  Downloading https://github.com/explosion/spacy-models/releases/download/en_core_web_lg-3.7.1/en_core_web_lg-3.7.1-py3-none-any.whl (587.7 MB)\n",
            "\u001b[2K     \u001b[90m━━━━━━━━━━━━━━━━━━━━━━━━━━━━━━━━━━━━━━━━\u001b[0m \u001b[32m587.7/587.7 MB\u001b[0m \u001b[31m576.5 kB/s\u001b[0m eta \u001b[36m0:00:00\u001b[0m\n",
            "\u001b[?25hRequirement already satisfied: spacy<3.8.0,>=3.7.2 in /usr/local/lib/python3.10/dist-packages (from en-core-web-lg==3.7.1) (3.7.5)\n",
            "Requirement already satisfied: spacy-legacy<3.1.0,>=3.0.11 in /usr/local/lib/python3.10/dist-packages (from spacy<3.8.0,>=3.7.2->en-core-web-lg==3.7.1) (3.0.12)\n",
            "Requirement already satisfied: spacy-loggers<2.0.0,>=1.0.0 in /usr/local/lib/python3.10/dist-packages (from spacy<3.8.0,>=3.7.2->en-core-web-lg==3.7.1) (1.0.5)\n",
            "Requirement already satisfied: murmurhash<1.1.0,>=0.28.0 in /usr/local/lib/python3.10/dist-packages (from spacy<3.8.0,>=3.7.2->en-core-web-lg==3.7.1) (1.0.10)\n",
            "Requirement already satisfied: cymem<2.1.0,>=2.0.2 in /usr/local/lib/python3.10/dist-packages (from spacy<3.8.0,>=3.7.2->en-core-web-lg==3.7.1) (2.0.8)\n",
            "Requirement already satisfied: preshed<3.1.0,>=3.0.2 in /usr/local/lib/python3.10/dist-packages (from spacy<3.8.0,>=3.7.2->en-core-web-lg==3.7.1) (3.0.9)\n",
            "Requirement already satisfied: thinc<8.3.0,>=8.2.2 in /usr/local/lib/python3.10/dist-packages (from spacy<3.8.0,>=3.7.2->en-core-web-lg==3.7.1) (8.2.5)\n",
            "Requirement already satisfied: wasabi<1.2.0,>=0.9.1 in /usr/local/lib/python3.10/dist-packages (from spacy<3.8.0,>=3.7.2->en-core-web-lg==3.7.1) (1.1.3)\n",
            "Requirement already satisfied: srsly<3.0.0,>=2.4.3 in /usr/local/lib/python3.10/dist-packages (from spacy<3.8.0,>=3.7.2->en-core-web-lg==3.7.1) (2.4.8)\n",
            "Requirement already satisfied: catalogue<2.1.0,>=2.0.6 in /usr/local/lib/python3.10/dist-packages (from spacy<3.8.0,>=3.7.2->en-core-web-lg==3.7.1) (2.0.10)\n",
            "Requirement already satisfied: weasel<0.5.0,>=0.1.0 in /usr/local/lib/python3.10/dist-packages (from spacy<3.8.0,>=3.7.2->en-core-web-lg==3.7.1) (0.4.1)\n",
            "Requirement already satisfied: typer<1.0.0,>=0.3.0 in /usr/local/lib/python3.10/dist-packages (from spacy<3.8.0,>=3.7.2->en-core-web-lg==3.7.1) (0.12.3)\n",
            "Requirement already satisfied: tqdm<5.0.0,>=4.38.0 in /usr/local/lib/python3.10/dist-packages (from spacy<3.8.0,>=3.7.2->en-core-web-lg==3.7.1) (4.66.4)\n",
            "Requirement already satisfied: requests<3.0.0,>=2.13.0 in /usr/local/lib/python3.10/dist-packages (from spacy<3.8.0,>=3.7.2->en-core-web-lg==3.7.1) (2.31.0)\n",
            "Requirement already satisfied: pydantic!=1.8,!=1.8.1,<3.0.0,>=1.7.4 in /usr/local/lib/python3.10/dist-packages (from spacy<3.8.0,>=3.7.2->en-core-web-lg==3.7.1) (2.8.0)\n",
            "Requirement already satisfied: jinja2 in /usr/local/lib/python3.10/dist-packages (from spacy<3.8.0,>=3.7.2->en-core-web-lg==3.7.1) (3.1.4)\n",
            "Requirement already satisfied: setuptools in /usr/local/lib/python3.10/dist-packages (from spacy<3.8.0,>=3.7.2->en-core-web-lg==3.7.1) (67.7.2)\n",
            "Requirement already satisfied: packaging>=20.0 in /usr/local/lib/python3.10/dist-packages (from spacy<3.8.0,>=3.7.2->en-core-web-lg==3.7.1) (24.1)\n",
            "Requirement already satisfied: langcodes<4.0.0,>=3.2.0 in /usr/local/lib/python3.10/dist-packages (from spacy<3.8.0,>=3.7.2->en-core-web-lg==3.7.1) (3.4.0)\n",
            "Requirement already satisfied: numpy>=1.19.0 in /usr/local/lib/python3.10/dist-packages (from spacy<3.8.0,>=3.7.2->en-core-web-lg==3.7.1) (1.25.2)\n",
            "Requirement already satisfied: language-data>=1.2 in /usr/local/lib/python3.10/dist-packages (from langcodes<4.0.0,>=3.2.0->spacy<3.8.0,>=3.7.2->en-core-web-lg==3.7.1) (1.2.0)\n",
            "Requirement already satisfied: annotated-types>=0.4.0 in /usr/local/lib/python3.10/dist-packages (from pydantic!=1.8,!=1.8.1,<3.0.0,>=1.7.4->spacy<3.8.0,>=3.7.2->en-core-web-lg==3.7.1) (0.7.0)\n",
            "Requirement already satisfied: pydantic-core==2.20.0 in /usr/local/lib/python3.10/dist-packages (from pydantic!=1.8,!=1.8.1,<3.0.0,>=1.7.4->spacy<3.8.0,>=3.7.2->en-core-web-lg==3.7.1) (2.20.0)\n",
            "Requirement already satisfied: typing-extensions>=4.6.1 in /usr/local/lib/python3.10/dist-packages (from pydantic!=1.8,!=1.8.1,<3.0.0,>=1.7.4->spacy<3.8.0,>=3.7.2->en-core-web-lg==3.7.1) (4.12.2)\n",
            "Requirement already satisfied: charset-normalizer<4,>=2 in /usr/local/lib/python3.10/dist-packages (from requests<3.0.0,>=2.13.0->spacy<3.8.0,>=3.7.2->en-core-web-lg==3.7.1) (3.3.2)\n",
            "Requirement already satisfied: idna<4,>=2.5 in /usr/local/lib/python3.10/dist-packages (from requests<3.0.0,>=2.13.0->spacy<3.8.0,>=3.7.2->en-core-web-lg==3.7.1) (3.7)\n",
            "Requirement already satisfied: urllib3<3,>=1.21.1 in /usr/local/lib/python3.10/dist-packages (from requests<3.0.0,>=2.13.0->spacy<3.8.0,>=3.7.2->en-core-web-lg==3.7.1) (2.0.7)\n",
            "Requirement already satisfied: certifi>=2017.4.17 in /usr/local/lib/python3.10/dist-packages (from requests<3.0.0,>=2.13.0->spacy<3.8.0,>=3.7.2->en-core-web-lg==3.7.1) (2024.6.2)\n",
            "Requirement already satisfied: blis<0.8.0,>=0.7.8 in /usr/local/lib/python3.10/dist-packages (from thinc<8.3.0,>=8.2.2->spacy<3.8.0,>=3.7.2->en-core-web-lg==3.7.1) (0.7.11)\n",
            "Requirement already satisfied: confection<1.0.0,>=0.0.1 in /usr/local/lib/python3.10/dist-packages (from thinc<8.3.0,>=8.2.2->spacy<3.8.0,>=3.7.2->en-core-web-lg==3.7.1) (0.1.5)\n",
            "Requirement already satisfied: click>=8.0.0 in /usr/local/lib/python3.10/dist-packages (from typer<1.0.0,>=0.3.0->spacy<3.8.0,>=3.7.2->en-core-web-lg==3.7.1) (8.1.7)\n",
            "Requirement already satisfied: shellingham>=1.3.0 in /usr/local/lib/python3.10/dist-packages (from typer<1.0.0,>=0.3.0->spacy<3.8.0,>=3.7.2->en-core-web-lg==3.7.1) (1.5.4)\n",
            "Requirement already satisfied: rich>=10.11.0 in /usr/local/lib/python3.10/dist-packages (from typer<1.0.0,>=0.3.0->spacy<3.8.0,>=3.7.2->en-core-web-lg==3.7.1) (13.7.1)\n",
            "Requirement already satisfied: cloudpathlib<1.0.0,>=0.7.0 in /usr/local/lib/python3.10/dist-packages (from weasel<0.5.0,>=0.1.0->spacy<3.8.0,>=3.7.2->en-core-web-lg==3.7.1) (0.18.1)\n",
            "Requirement already satisfied: smart-open<8.0.0,>=5.2.1 in /usr/local/lib/python3.10/dist-packages (from weasel<0.5.0,>=0.1.0->spacy<3.8.0,>=3.7.2->en-core-web-lg==3.7.1) (7.0.4)\n",
            "Requirement already satisfied: MarkupSafe>=2.0 in /usr/local/lib/python3.10/dist-packages (from jinja2->spacy<3.8.0,>=3.7.2->en-core-web-lg==3.7.1) (2.1.5)\n",
            "Requirement already satisfied: marisa-trie>=0.7.7 in /usr/local/lib/python3.10/dist-packages (from language-data>=1.2->langcodes<4.0.0,>=3.2.0->spacy<3.8.0,>=3.7.2->en-core-web-lg==3.7.1) (1.2.0)\n",
            "Requirement already satisfied: markdown-it-py>=2.2.0 in /usr/local/lib/python3.10/dist-packages (from rich>=10.11.0->typer<1.0.0,>=0.3.0->spacy<3.8.0,>=3.7.2->en-core-web-lg==3.7.1) (3.0.0)\n",
            "Requirement already satisfied: pygments<3.0.0,>=2.13.0 in /usr/local/lib/python3.10/dist-packages (from rich>=10.11.0->typer<1.0.0,>=0.3.0->spacy<3.8.0,>=3.7.2->en-core-web-lg==3.7.1) (2.16.1)\n",
            "Requirement already satisfied: wrapt in /usr/local/lib/python3.10/dist-packages (from smart-open<8.0.0,>=5.2.1->weasel<0.5.0,>=0.1.0->spacy<3.8.0,>=3.7.2->en-core-web-lg==3.7.1) (1.14.1)\n",
            "Requirement already satisfied: mdurl~=0.1 in /usr/local/lib/python3.10/dist-packages (from markdown-it-py>=2.2.0->rich>=10.11.0->typer<1.0.0,>=0.3.0->spacy<3.8.0,>=3.7.2->en-core-web-lg==3.7.1) (0.1.2)\n",
            "Installing collected packages: en-core-web-lg\n",
            "Successfully installed en-core-web-lg-3.7.1\n",
            "\u001b[38;5;2m✔ Download and installation successful\u001b[0m\n",
            "You can now load the package via spacy.load('en_core_web_lg')\n",
            "\u001b[38;5;3m⚠ Restart to reload dependencies\u001b[0m\n",
            "If you are in a Jupyter or Colab notebook, you may need to restart Python in\n",
            "order to load all the package's dependencies. You can do this by selecting the\n",
            "'Restart kernel' or 'Restart runtime' option.\n"
          ]
        }
      ]
    },
    {
      "cell_type": "code",
      "source": [],
      "metadata": {
        "id": "QI_9WCfGhCPz"
      },
      "execution_count": null,
      "outputs": []
    },
    {
      "cell_type": "code",
      "source": [],
      "metadata": {
        "id": "vgZjONejhCNj"
      },
      "execution_count": null,
      "outputs": []
    },
    {
      "cell_type": "code",
      "source": [
        "pip install gensim"
      ],
      "metadata": {
        "colab": {
          "base_uri": "https://localhost:8080/"
        },
        "id": "IT3qeol4qMLX",
        "outputId": "ed7b4d58-f298-44ae-b285-82aa7447d799"
      },
      "execution_count": 2,
      "outputs": [
        {
          "output_type": "stream",
          "name": "stdout",
          "text": [
            "Requirement already satisfied: gensim in /usr/local/lib/python3.10/dist-packages (4.3.2)\n",
            "Requirement already satisfied: numpy>=1.18.5 in /usr/local/lib/python3.10/dist-packages (from gensim) (1.25.2)\n",
            "Requirement already satisfied: scipy>=1.7.0 in /usr/local/lib/python3.10/dist-packages (from gensim) (1.11.4)\n",
            "Requirement already satisfied: smart-open>=1.8.1 in /usr/local/lib/python3.10/dist-packages (from gensim) (7.0.4)\n",
            "Requirement already satisfied: wrapt in /usr/local/lib/python3.10/dist-packages (from smart-open>=1.8.1->gensim) (1.14.1)\n"
          ]
        }
      ]
    },
    {
      "cell_type": "code",
      "source": [
        "import gensim.downloader as api"
      ],
      "metadata": {
        "id": "l8lnMMHHqMN6"
      },
      "execution_count": 3,
      "outputs": []
    },
    {
      "cell_type": "code",
      "source": [
        "wv=api.load('word2vec-google-news-300')"
      ],
      "metadata": {
        "colab": {
          "base_uri": "https://localhost:8080/"
        },
        "id": "LmWVUWaaqMQN",
        "outputId": "3fac9730-9068-4c67-8910-49b23bfab00b"
      },
      "execution_count": 4,
      "outputs": [
        {
          "output_type": "stream",
          "name": "stdout",
          "text": [
            "[==================================================] 100.0% 1662.8/1662.8MB downloaded\n"
          ]
        }
      ]
    },
    {
      "cell_type": "code",
      "source": [
        "import pandas as pd\n",
        "import numpy as np"
      ],
      "metadata": {
        "id": "1YQwJINvZcS4"
      },
      "execution_count": 5,
      "outputs": []
    },
    {
      "cell_type": "code",
      "source": [
        "df = pd.read_csv('IFND.csv', encoding='latin1')"
      ],
      "metadata": {
        "id": "rZoYmMvwqMSp"
      },
      "execution_count": 27,
      "outputs": []
    },
    {
      "cell_type": "code",
      "source": [
        "df=df.drop(columns=[\"Image\",\"Web\",\"Category\",\"Date\",\"id\"])"
      ],
      "metadata": {
        "id": "OVQl7UOLqMVH"
      },
      "execution_count": 28,
      "outputs": []
    },
    {
      "cell_type": "code",
      "source": [
        "df.Label.value_counts()"
      ],
      "metadata": {
        "colab": {
          "base_uri": "https://localhost:8080/"
        },
        "id": "J2hxaKEUhWzT",
        "outputId": "81b1b865-1c1c-403a-c5fb-a9da652abc7a"
      },
      "execution_count": 31,
      "outputs": [
        {
          "output_type": "execute_result",
          "data": {
            "text/plain": [
              "Label\n",
              "TRUE    37800\n",
              "Fake    18914\n",
              "Name: count, dtype: int64"
            ]
          },
          "metadata": {},
          "execution_count": 31
        }
      ]
    },
    {
      "cell_type": "code",
      "source": [
        "df.isna().sum()"
      ],
      "metadata": {
        "colab": {
          "base_uri": "https://localhost:8080/"
        },
        "id": "t2QTRaV0qMXR",
        "outputId": "7a5b3b08-b29d-4dab-9a81-42141b4e62e3"
      },
      "execution_count": 32,
      "outputs": [
        {
          "output_type": "execute_result",
          "data": {
            "text/plain": [
              "Statement    0\n",
              "Label        0\n",
              "dtype: int64"
            ]
          },
          "metadata": {},
          "execution_count": 32
        }
      ]
    },
    {
      "cell_type": "code",
      "source": [
        "df_true=df[df.Label==\"TRUE\"].sample(10000,random_state=1210)\n",
        "df_false=df[df.Label==\"Fake\"].sample(10000,random_state=1210)"
      ],
      "metadata": {
        "id": "3YVWx8twqMZn"
      },
      "execution_count": 38,
      "outputs": []
    },
    {
      "cell_type": "code",
      "source": [
        "df_final=pd.concat([df_true,df_false])"
      ],
      "metadata": {
        "id": "kpRwMOJiqMb2"
      },
      "execution_count": 39,
      "outputs": []
    },
    {
      "cell_type": "code",
      "source": [
        "df_final"
      ],
      "metadata": {
        "colab": {
          "base_uri": "https://localhost:8080/",
          "height": 423
        },
        "id": "DxmSOp_IqMd7",
        "outputId": "0ddd3e6f-f407-4fae-8ad7-3fa4fed3864a"
      },
      "execution_count": 40,
      "outputs": [
        {
          "output_type": "execute_result",
          "data": {
            "text/plain": [
              "                                               Statement Label\n",
              "11097  Coronavirus cases go past 1.25 lakh in Mumbai;...  TRUE\n",
              "28945  2 months before Lok Sabha polls, cracks in Har...  TRUE\n",
              "13719  Coronavirus: Delhi L-G makes institutional qua...  TRUE\n",
              "26566  Outside hand guiding LJP  Bihar BJP struggl...  TRUE\n",
              "17471  National Covid recovery rate reaches 92.97 per...  TRUE\n",
              "...                                                  ...   ...\n",
              "45784  300 sadhus in Jaipur tested positive for COVID...  Fake\n",
              "44868  Fake supermoon Facebook live video gets 16 mil...  Fake\n",
              "42719  No, this video of an explosion is not from the...  Fake\n",
              "39720  Is this bleeding JNU student injured by police...  Fake\n",
              "49480  Fact Check: Did 'The Simpsons' Writers Predict...  Fake\n",
              "\n",
              "[20000 rows x 2 columns]"
            ],
            "text/html": [
              "\n",
              "  <div id=\"df-e61bd523-fd93-42f3-adf6-28f838ab349d\" class=\"colab-df-container\">\n",
              "    <div>\n",
              "<style scoped>\n",
              "    .dataframe tbody tr th:only-of-type {\n",
              "        vertical-align: middle;\n",
              "    }\n",
              "\n",
              "    .dataframe tbody tr th {\n",
              "        vertical-align: top;\n",
              "    }\n",
              "\n",
              "    .dataframe thead th {\n",
              "        text-align: right;\n",
              "    }\n",
              "</style>\n",
              "<table border=\"1\" class=\"dataframe\">\n",
              "  <thead>\n",
              "    <tr style=\"text-align: right;\">\n",
              "      <th></th>\n",
              "      <th>Statement</th>\n",
              "      <th>Label</th>\n",
              "    </tr>\n",
              "  </thead>\n",
              "  <tbody>\n",
              "    <tr>\n",
              "      <th>11097</th>\n",
              "      <td>Coronavirus cases go past 1.25 lakh in Mumbai;...</td>\n",
              "      <td>TRUE</td>\n",
              "    </tr>\n",
              "    <tr>\n",
              "      <th>28945</th>\n",
              "      <td>2 months before Lok Sabha polls, cracks in Har...</td>\n",
              "      <td>TRUE</td>\n",
              "    </tr>\n",
              "    <tr>\n",
              "      <th>13719</th>\n",
              "      <td>Coronavirus: Delhi L-G makes institutional qua...</td>\n",
              "      <td>TRUE</td>\n",
              "    </tr>\n",
              "    <tr>\n",
              "      <th>26566</th>\n",
              "      <td>Outside hand guiding LJP  Bihar BJP struggl...</td>\n",
              "      <td>TRUE</td>\n",
              "    </tr>\n",
              "    <tr>\n",
              "      <th>17471</th>\n",
              "      <td>National Covid recovery rate reaches 92.97 per...</td>\n",
              "      <td>TRUE</td>\n",
              "    </tr>\n",
              "    <tr>\n",
              "      <th>...</th>\n",
              "      <td>...</td>\n",
              "      <td>...</td>\n",
              "    </tr>\n",
              "    <tr>\n",
              "      <th>45784</th>\n",
              "      <td>300 sadhus in Jaipur tested positive for COVID...</td>\n",
              "      <td>Fake</td>\n",
              "    </tr>\n",
              "    <tr>\n",
              "      <th>44868</th>\n",
              "      <td>Fake supermoon Facebook live video gets 16 mil...</td>\n",
              "      <td>Fake</td>\n",
              "    </tr>\n",
              "    <tr>\n",
              "      <th>42719</th>\n",
              "      <td>No, this video of an explosion is not from the...</td>\n",
              "      <td>Fake</td>\n",
              "    </tr>\n",
              "    <tr>\n",
              "      <th>39720</th>\n",
              "      <td>Is this bleeding JNU student injured by police...</td>\n",
              "      <td>Fake</td>\n",
              "    </tr>\n",
              "    <tr>\n",
              "      <th>49480</th>\n",
              "      <td>Fact Check: Did 'The Simpsons' Writers Predict...</td>\n",
              "      <td>Fake</td>\n",
              "    </tr>\n",
              "  </tbody>\n",
              "</table>\n",
              "<p>20000 rows × 2 columns</p>\n",
              "</div>\n",
              "    <div class=\"colab-df-buttons\">\n",
              "\n",
              "  <div class=\"colab-df-container\">\n",
              "    <button class=\"colab-df-convert\" onclick=\"convertToInteractive('df-e61bd523-fd93-42f3-adf6-28f838ab349d')\"\n",
              "            title=\"Convert this dataframe to an interactive table.\"\n",
              "            style=\"display:none;\">\n",
              "\n",
              "  <svg xmlns=\"http://www.w3.org/2000/svg\" height=\"24px\" viewBox=\"0 -960 960 960\">\n",
              "    <path d=\"M120-120v-720h720v720H120Zm60-500h600v-160H180v160Zm220 220h160v-160H400v160Zm0 220h160v-160H400v160ZM180-400h160v-160H180v160Zm440 0h160v-160H620v160ZM180-180h160v-160H180v160Zm440 0h160v-160H620v160Z\"/>\n",
              "  </svg>\n",
              "    </button>\n",
              "\n",
              "  <style>\n",
              "    .colab-df-container {\n",
              "      display:flex;\n",
              "      gap: 12px;\n",
              "    }\n",
              "\n",
              "    .colab-df-convert {\n",
              "      background-color: #E8F0FE;\n",
              "      border: none;\n",
              "      border-radius: 50%;\n",
              "      cursor: pointer;\n",
              "      display: none;\n",
              "      fill: #1967D2;\n",
              "      height: 32px;\n",
              "      padding: 0 0 0 0;\n",
              "      width: 32px;\n",
              "    }\n",
              "\n",
              "    .colab-df-convert:hover {\n",
              "      background-color: #E2EBFA;\n",
              "      box-shadow: 0px 1px 2px rgba(60, 64, 67, 0.3), 0px 1px 3px 1px rgba(60, 64, 67, 0.15);\n",
              "      fill: #174EA6;\n",
              "    }\n",
              "\n",
              "    .colab-df-buttons div {\n",
              "      margin-bottom: 4px;\n",
              "    }\n",
              "\n",
              "    [theme=dark] .colab-df-convert {\n",
              "      background-color: #3B4455;\n",
              "      fill: #D2E3FC;\n",
              "    }\n",
              "\n",
              "    [theme=dark] .colab-df-convert:hover {\n",
              "      background-color: #434B5C;\n",
              "      box-shadow: 0px 1px 3px 1px rgba(0, 0, 0, 0.15);\n",
              "      filter: drop-shadow(0px 1px 2px rgba(0, 0, 0, 0.3));\n",
              "      fill: #FFFFFF;\n",
              "    }\n",
              "  </style>\n",
              "\n",
              "    <script>\n",
              "      const buttonEl =\n",
              "        document.querySelector('#df-e61bd523-fd93-42f3-adf6-28f838ab349d button.colab-df-convert');\n",
              "      buttonEl.style.display =\n",
              "        google.colab.kernel.accessAllowed ? 'block' : 'none';\n",
              "\n",
              "      async function convertToInteractive(key) {\n",
              "        const element = document.querySelector('#df-e61bd523-fd93-42f3-adf6-28f838ab349d');\n",
              "        const dataTable =\n",
              "          await google.colab.kernel.invokeFunction('convertToInteractive',\n",
              "                                                    [key], {});\n",
              "        if (!dataTable) return;\n",
              "\n",
              "        const docLinkHtml = 'Like what you see? Visit the ' +\n",
              "          '<a target=\"_blank\" href=https://colab.research.google.com/notebooks/data_table.ipynb>data table notebook</a>'\n",
              "          + ' to learn more about interactive tables.';\n",
              "        element.innerHTML = '';\n",
              "        dataTable['output_type'] = 'display_data';\n",
              "        await google.colab.output.renderOutput(dataTable, element);\n",
              "        const docLink = document.createElement('div');\n",
              "        docLink.innerHTML = docLinkHtml;\n",
              "        element.appendChild(docLink);\n",
              "      }\n",
              "    </script>\n",
              "  </div>\n",
              "\n",
              "\n",
              "<div id=\"df-485659ba-392e-4225-b11a-349c9705bacc\">\n",
              "  <button class=\"colab-df-quickchart\" onclick=\"quickchart('df-485659ba-392e-4225-b11a-349c9705bacc')\"\n",
              "            title=\"Suggest charts\"\n",
              "            style=\"display:none;\">\n",
              "\n",
              "<svg xmlns=\"http://www.w3.org/2000/svg\" height=\"24px\"viewBox=\"0 0 24 24\"\n",
              "     width=\"24px\">\n",
              "    <g>\n",
              "        <path d=\"M19 3H5c-1.1 0-2 .9-2 2v14c0 1.1.9 2 2 2h14c1.1 0 2-.9 2-2V5c0-1.1-.9-2-2-2zM9 17H7v-7h2v7zm4 0h-2V7h2v10zm4 0h-2v-4h2v4z\"/>\n",
              "    </g>\n",
              "</svg>\n",
              "  </button>\n",
              "\n",
              "<style>\n",
              "  .colab-df-quickchart {\n",
              "      --bg-color: #E8F0FE;\n",
              "      --fill-color: #1967D2;\n",
              "      --hover-bg-color: #E2EBFA;\n",
              "      --hover-fill-color: #174EA6;\n",
              "      --disabled-fill-color: #AAA;\n",
              "      --disabled-bg-color: #DDD;\n",
              "  }\n",
              "\n",
              "  [theme=dark] .colab-df-quickchart {\n",
              "      --bg-color: #3B4455;\n",
              "      --fill-color: #D2E3FC;\n",
              "      --hover-bg-color: #434B5C;\n",
              "      --hover-fill-color: #FFFFFF;\n",
              "      --disabled-bg-color: #3B4455;\n",
              "      --disabled-fill-color: #666;\n",
              "  }\n",
              "\n",
              "  .colab-df-quickchart {\n",
              "    background-color: var(--bg-color);\n",
              "    border: none;\n",
              "    border-radius: 50%;\n",
              "    cursor: pointer;\n",
              "    display: none;\n",
              "    fill: var(--fill-color);\n",
              "    height: 32px;\n",
              "    padding: 0;\n",
              "    width: 32px;\n",
              "  }\n",
              "\n",
              "  .colab-df-quickchart:hover {\n",
              "    background-color: var(--hover-bg-color);\n",
              "    box-shadow: 0 1px 2px rgba(60, 64, 67, 0.3), 0 1px 3px 1px rgba(60, 64, 67, 0.15);\n",
              "    fill: var(--button-hover-fill-color);\n",
              "  }\n",
              "\n",
              "  .colab-df-quickchart-complete:disabled,\n",
              "  .colab-df-quickchart-complete:disabled:hover {\n",
              "    background-color: var(--disabled-bg-color);\n",
              "    fill: var(--disabled-fill-color);\n",
              "    box-shadow: none;\n",
              "  }\n",
              "\n",
              "  .colab-df-spinner {\n",
              "    border: 2px solid var(--fill-color);\n",
              "    border-color: transparent;\n",
              "    border-bottom-color: var(--fill-color);\n",
              "    animation:\n",
              "      spin 1s steps(1) infinite;\n",
              "  }\n",
              "\n",
              "  @keyframes spin {\n",
              "    0% {\n",
              "      border-color: transparent;\n",
              "      border-bottom-color: var(--fill-color);\n",
              "      border-left-color: var(--fill-color);\n",
              "    }\n",
              "    20% {\n",
              "      border-color: transparent;\n",
              "      border-left-color: var(--fill-color);\n",
              "      border-top-color: var(--fill-color);\n",
              "    }\n",
              "    30% {\n",
              "      border-color: transparent;\n",
              "      border-left-color: var(--fill-color);\n",
              "      border-top-color: var(--fill-color);\n",
              "      border-right-color: var(--fill-color);\n",
              "    }\n",
              "    40% {\n",
              "      border-color: transparent;\n",
              "      border-right-color: var(--fill-color);\n",
              "      border-top-color: var(--fill-color);\n",
              "    }\n",
              "    60% {\n",
              "      border-color: transparent;\n",
              "      border-right-color: var(--fill-color);\n",
              "    }\n",
              "    80% {\n",
              "      border-color: transparent;\n",
              "      border-right-color: var(--fill-color);\n",
              "      border-bottom-color: var(--fill-color);\n",
              "    }\n",
              "    90% {\n",
              "      border-color: transparent;\n",
              "      border-bottom-color: var(--fill-color);\n",
              "    }\n",
              "  }\n",
              "</style>\n",
              "\n",
              "  <script>\n",
              "    async function quickchart(key) {\n",
              "      const quickchartButtonEl =\n",
              "        document.querySelector('#' + key + ' button');\n",
              "      quickchartButtonEl.disabled = true;  // To prevent multiple clicks.\n",
              "      quickchartButtonEl.classList.add('colab-df-spinner');\n",
              "      try {\n",
              "        const charts = await google.colab.kernel.invokeFunction(\n",
              "            'suggestCharts', [key], {});\n",
              "      } catch (error) {\n",
              "        console.error('Error during call to suggestCharts:', error);\n",
              "      }\n",
              "      quickchartButtonEl.classList.remove('colab-df-spinner');\n",
              "      quickchartButtonEl.classList.add('colab-df-quickchart-complete');\n",
              "    }\n",
              "    (() => {\n",
              "      let quickchartButtonEl =\n",
              "        document.querySelector('#df-485659ba-392e-4225-b11a-349c9705bacc button');\n",
              "      quickchartButtonEl.style.display =\n",
              "        google.colab.kernel.accessAllowed ? 'block' : 'none';\n",
              "    })();\n",
              "  </script>\n",
              "</div>\n",
              "\n",
              "  <div id=\"id_005e4193-eeae-49f5-8e7a-32652057648a\">\n",
              "    <style>\n",
              "      .colab-df-generate {\n",
              "        background-color: #E8F0FE;\n",
              "        border: none;\n",
              "        border-radius: 50%;\n",
              "        cursor: pointer;\n",
              "        display: none;\n",
              "        fill: #1967D2;\n",
              "        height: 32px;\n",
              "        padding: 0 0 0 0;\n",
              "        width: 32px;\n",
              "      }\n",
              "\n",
              "      .colab-df-generate:hover {\n",
              "        background-color: #E2EBFA;\n",
              "        box-shadow: 0px 1px 2px rgba(60, 64, 67, 0.3), 0px 1px 3px 1px rgba(60, 64, 67, 0.15);\n",
              "        fill: #174EA6;\n",
              "      }\n",
              "\n",
              "      [theme=dark] .colab-df-generate {\n",
              "        background-color: #3B4455;\n",
              "        fill: #D2E3FC;\n",
              "      }\n",
              "\n",
              "      [theme=dark] .colab-df-generate:hover {\n",
              "        background-color: #434B5C;\n",
              "        box-shadow: 0px 1px 3px 1px rgba(0, 0, 0, 0.15);\n",
              "        filter: drop-shadow(0px 1px 2px rgba(0, 0, 0, 0.3));\n",
              "        fill: #FFFFFF;\n",
              "      }\n",
              "    </style>\n",
              "    <button class=\"colab-df-generate\" onclick=\"generateWithVariable('df_final')\"\n",
              "            title=\"Generate code using this dataframe.\"\n",
              "            style=\"display:none;\">\n",
              "\n",
              "  <svg xmlns=\"http://www.w3.org/2000/svg\" height=\"24px\"viewBox=\"0 0 24 24\"\n",
              "       width=\"24px\">\n",
              "    <path d=\"M7,19H8.4L18.45,9,17,7.55,7,17.6ZM5,21V16.75L18.45,3.32a2,2,0,0,1,2.83,0l1.4,1.43a1.91,1.91,0,0,1,.58,1.4,1.91,1.91,0,0,1-.58,1.4L9.25,21ZM18.45,9,17,7.55Zm-12,3A5.31,5.31,0,0,0,4.9,8.1,5.31,5.31,0,0,0,1,6.5,5.31,5.31,0,0,0,4.9,4.9,5.31,5.31,0,0,0,6.5,1,5.31,5.31,0,0,0,8.1,4.9,5.31,5.31,0,0,0,12,6.5,5.46,5.46,0,0,0,6.5,12Z\"/>\n",
              "  </svg>\n",
              "    </button>\n",
              "    <script>\n",
              "      (() => {\n",
              "      const buttonEl =\n",
              "        document.querySelector('#id_005e4193-eeae-49f5-8e7a-32652057648a button.colab-df-generate');\n",
              "      buttonEl.style.display =\n",
              "        google.colab.kernel.accessAllowed ? 'block' : 'none';\n",
              "\n",
              "      buttonEl.onclick = () => {\n",
              "        google.colab.notebook.generateWithVariable('df_final');\n",
              "      }\n",
              "      })();\n",
              "    </script>\n",
              "  </div>\n",
              "\n",
              "    </div>\n",
              "  </div>\n"
            ],
            "application/vnd.google.colaboratory.intrinsic+json": {
              "type": "dataframe",
              "variable_name": "df_final",
              "summary": "{\n  \"name\": \"df_final\",\n  \"rows\": 20000,\n  \"fields\": [\n    {\n      \"column\": \"Statement\",\n      \"properties\": {\n        \"dtype\": \"string\",\n        \"num_unique_values\": 19954,\n        \"samples\": [\n          \"Support for BJP in Balochistan? No, this is a video of BJP Candidate\\u00d5s rally in Kashmir\",\n          \"Fact Check: Old video of crocodile in a waterlogged street of...\",\n          \"PM Modi to inaugurate several projects, including Chennai Metro Extension, in Tamil Nadu\"\n        ],\n        \"semantic_type\": \"\",\n        \"description\": \"\"\n      }\n    },\n    {\n      \"column\": \"Label\",\n      \"properties\": {\n        \"dtype\": \"category\",\n        \"num_unique_values\": 2,\n        \"samples\": [\n          \"Fake\",\n          \"TRUE\"\n        ],\n        \"semantic_type\": \"\",\n        \"description\": \"\"\n      }\n    }\n  ]\n}"
            }
          },
          "metadata": {},
          "execution_count": 40
        }
      ]
    },
    {
      "cell_type": "code",
      "source": [
        "df_final.Label.value_counts()"
      ],
      "metadata": {
        "colab": {
          "base_uri": "https://localhost:8080/"
        },
        "id": "Wv363EVVqMhY",
        "outputId": "b9476a03-ca7e-451d-8da4-d94213a89c46"
      },
      "execution_count": 42,
      "outputs": [
        {
          "output_type": "execute_result",
          "data": {
            "text/plain": [
              "Label\n",
              "TRUE    10000\n",
              "Fake    10000\n",
              "Name: count, dtype: int64"
            ]
          },
          "metadata": {},
          "execution_count": 42
        }
      ]
    },
    {
      "cell_type": "code",
      "source": [
        "import spacy"
      ],
      "metadata": {
        "id": "pkj-sNPtjGix"
      },
      "execution_count": 43,
      "outputs": []
    },
    {
      "cell_type": "code",
      "source": [
        "nlp=spacy.load('en_core_web_lg')"
      ],
      "metadata": {
        "id": "xhpKskbYjPb-"
      },
      "execution_count": 48,
      "outputs": []
    },
    {
      "cell_type": "code",
      "source": [
        "def prepro_vect(text):\n",
        "    doc=nlp(text)\n",
        "    sent=[]\n",
        "    for i in doc:\n",
        "      if i.is_stop or i.is_punct:\n",
        "        continue\n",
        "      sent.append(i.lemma_)\n",
        "      return wv.get_mean_vector(sent)"
      ],
      "metadata": {
        "id": "R95e9N34jSGN"
      },
      "execution_count": 63,
      "outputs": []
    },
    {
      "cell_type": "code",
      "source": [],
      "metadata": {
        "colab": {
          "base_uri": "https://localhost:8080/"
        },
        "id": "bPjXfPK0mi8u",
        "outputId": "fa9ed839-f659-4232-ac52-92c4f4a6a9f7"
      },
      "execution_count": 65,
      "outputs": [
        {
          "output_type": "execute_result",
          "data": {
            "text/plain": [
              "(300,)"
            ]
          },
          "metadata": {},
          "execution_count": 65
        }
      ]
    },
    {
      "cell_type": "code",
      "source": [
        "df_final[\"vectors\"]=df_final[\"Statement\"].apply(prepro_vect)"
      ],
      "metadata": {
        "id": "bVZef0o5jrvJ"
      },
      "execution_count": 66,
      "outputs": []
    },
    {
      "cell_type": "code",
      "source": [
        "df_final[\"Label\"]=df_final[\"Label\"].map({\n",
        "    \"TRUE\":1,\n",
        "    \"Fake\":0\n",
        "})"
      ],
      "metadata": {
        "id": "8jByFEAXqKg3"
      },
      "execution_count": 82,
      "outputs": []
    },
    {
      "cell_type": "code",
      "source": [
        "from sklearn.model_selection import train_test_split\n",
        "X_train,X_test,y_train,y_test=train_test_split(df_final[\"vectors\"].values,df_final[\"Label\"],test_size=0.2,random_state=1210,stratify=df_final[\"Label\"])"
      ],
      "metadata": {
        "id": "Ydn85Y1Ijvcx"
      },
      "execution_count": 101,
      "outputs": []
    },
    {
      "cell_type": "code",
      "source": [
        "X_train"
      ],
      "metadata": {
        "colab": {
          "base_uri": "https://localhost:8080/"
        },
        "id": "NDPbld2mlkLn",
        "outputId": "84bb4843-6b1d-428c-f89f-484c360b606a"
      },
      "execution_count": 102,
      "outputs": [
        {
          "output_type": "execute_result",
          "data": {
            "text/plain": [
              "array([array([-0.02474504,  0.03803404, -0.00263489,  0.09592521, -0.0482681 ,\n",
              "               0.03360437,  0.02627251, -0.00836291, -0.00572802,  0.04643513,\n",
              "              -0.0482681 , -0.04429667, -0.06781974,  0.03681206, -0.06445929,\n",
              "               0.05621095,  0.13319552,  0.02230108,  0.06293183, -0.06140435,\n",
              "               0.01550384,  0.01855878, -0.02932745,  0.06537578,  0.00530796,\n",
              "               0.0043342 , -0.11608783, -0.00273036, -0.01092142, -0.01038681,\n",
              "               0.03360437, -0.00588077, -0.12219772,  0.08370544, -0.03803404,\n",
              "               0.02596701, -0.00817197,  0.10936696,  0.04032525,  0.08920433,\n",
              "               0.1124219 , -0.0034559 ,  0.01603845,  0.02596701,  0.01664944,\n",
              "              -0.05407249,  0.04674063,  0.0748461 ,  0.1771867 ,  0.06201534,\n",
              "              -0.09409224,  0.05468348, -0.03543734, -0.08126149, -0.09714719,\n",
              "              -0.00966126, -0.15519111, -0.09592521,  0.0242868 , -0.06812523,\n",
              "               0.08614939,  0.04704612,  0.07179116,  0.0965362 ,  0.02550877,\n",
              "              -0.01130329, -0.08431643,  0.04429667, -0.06232084,  0.01313625,\n",
              "               0.00023628, -0.05071205,  0.10997795,  0.04154722, -0.00901208,\n",
              "              -0.06262633, -0.01221977,  0.03177141,  0.02367581,  0.16374494,\n",
              "              -0.08859335, -0.00756098, -0.06659776, -0.0239813 ,  0.01779504,\n",
              "              -0.01603845,  0.0268835 ,  0.06262633, -0.14785925, -0.01504559,\n",
              "               0.09836917, -0.01145604,  0.01206702,  0.06843072,  0.08981533,\n",
              "              -0.07026369,  0.04338019,  0.07087468, -0.05834941,  0.02031537,\n",
              "               0.0589604 , -0.00855384,  0.07209665, -0.01703131, -0.06568127,\n",
              "              -0.12586366,  0.01649669, -0.053767  , -0.07209665,  0.04949008,\n",
              "               0.08431643,  0.01955163, -0.01374724,  0.08187247,  0.09531422,\n",
              "               0.04246371, -0.00475426,  0.05132304, -0.08065049,  0.00756098,\n",
              "              -0.04887909,  0.02505053,  0.03436811,  0.06873622, -0.01512197,\n",
              "              -0.09225928, -0.00041767,  0.00351318, -0.01573296, -0.10814498,\n",
              "               0.05040656, -0.07118017,  0.00855384,  0.00530796, -0.02505053,\n",
              "               0.0346736 , -0.01115054,  0.03375712, -0.03345162, -0.07820654,\n",
              "               0.05987688, -0.10814498, -0.00324588,  0.02550877, -0.02214834,\n",
              "              -0.04460217, -0.07423511, -0.06170985,  0.04735162, -0.00702637,\n",
              "               0.03482635, -0.06812523, -0.00330316, -0.03222965, -0.05254502,\n",
              "               0.02703625, -0.05773842, -0.13075157, -0.0586549 ,  0.02413405,\n",
              "              -0.05804392, -0.10692301,  0.01764229, -0.11608783,  0.03833953,\n",
              "               0.0060717 , -0.0323824 , -0.09287027, -0.02413405,  0.0430747 ,\n",
              "              -0.11975376, -0.0965362 , -0.01451098, -0.03513185,  0.00786648,\n",
              "              -0.00393324, -0.02978569,  0.01298351,  0.01771867, -0.0294802 ,\n",
              "              -0.08065049,  0.01451098,  0.01405274,  0.01008131, -0.04521316,\n",
              "              -0.05987688, -0.02566152, -0.00893571, -0.11181092,  0.01970438,\n",
              "               0.00920302,  0.01580933, -0.03574283,  0.02734174,  0.00479244,\n",
              "              -0.02306482, -0.02474504, -0.06873622, -0.07881753,  0.01535109,\n",
              "              -0.07362413,  0.07667907, -0.00163249, -0.04215821, -0.16130099,\n",
              "              -0.03452086,  0.00286401,  0.02596701, -0.04612964,  0.05071205,\n",
              "              -0.02000988,  0.01130329,  0.01443461,  0.05223953, -0.04215821,\n",
              "              -0.04154722,  0.06018238, -0.08981533, -0.07209665,  0.09225928,\n",
              "              -0.04093624,  0.06629226, -0.06048787, -0.06354281, -0.04460217,\n",
              "               0.05315601,  0.04093624,  0.01351812,  0.0092412 ,  0.0430747 ,\n",
              "               0.04368569,  0.02520328,  0.00210027,  0.0213846 ,  0.12280871,\n",
              "               0.01886427,  0.02245383, -0.07667907,  0.07392962,  0.01863515,\n",
              "               0.00985219,  0.02260658, -0.01305988,  0.0320769 ,  0.0158857 ,\n",
              "               0.02520328, -0.0855384 , -0.01031043, -0.0187879 , -0.01939889,\n",
              "              -0.01458735,  0.07942852, -0.07087468, -0.00939395,  0.06873622,\n",
              "               0.07942852, -0.0427692 ,  0.02352306,  0.00168977,  0.04674063,\n",
              "               0.00360865, -0.0242868 , -0.0855384 , -0.01924614, -0.02046812,\n",
              "               0.06415381, -0.04490766, -0.04185272, -0.0586549 , -0.02016262,\n",
              "              -0.053767  , -0.03284064, -0.03772854, -0.03910327, -0.0482681 ,\n",
              "              -0.08798236, -0.05743293, -0.04612964, -0.01023406,  0.013289  ,\n",
              "               0.05162854,  0.02764723,  0.02367581,  0.00393324,  0.02825822,\n",
              "              -0.02810548, -0.01657307,  0.06232084,  0.04918458, -0.0268835 ,\n",
              "               0.14358231, -0.03329888, -0.02902196,  0.03345162,  0.0187879 ,\n",
              "              -0.08920433,  0.04124173, -0.12280871,  0.0242868 ,  0.08492742],\n",
              "             dtype=float32)                                                    ,\n",
              "       array([ 3.36988308e-02, -4.47947867e-02, -1.67466756e-02,  1.41370699e-01,\n",
              "              -1.93151832e-02, -4.70550731e-02,  7.35620782e-02, -9.53430310e-02,\n",
              "              -3.77249671e-04,  5.46578579e-02, -4.15070951e-02, -1.20822638e-01,\n",
              "              -3.26714292e-02,  5.23975724e-03, -7.52059296e-02,  5.67126647e-02,\n",
              "               2.57878248e-02, -7.35620782e-02,  6.01030979e-03,  2.28083543e-02,\n",
              "               7.76716918e-02, -4.84934412e-02, -1.96234044e-02, -8.52744840e-03,\n",
              "              -3.45207527e-02,  5.19866124e-02, -3.78084444e-02, -1.02329373e-01,\n",
              "               3.63700800e-02, -3.34933512e-02, -2.79453713e-02, -5.88188414e-03,\n",
              "               7.65415514e-03,  5.19866124e-02, -6.20551631e-02, -8.83566886e-02,\n",
              "              -1.39983709e-03,  8.95895734e-02,  5.09592071e-02, -2.85618138e-02,\n",
              "               1.70805806e-03, -5.58907427e-02,  2.63272109e-03,  8.95895734e-02,\n",
              "               3.82194072e-02, -1.00685529e-01, -1.65411942e-02,  3.24659459e-02,\n",
              "               9.16443840e-02,  5.87674715e-02, -5.38359359e-02, -2.89727747e-02,\n",
              "              -9.98636112e-02,  1.60274934e-02, -5.29754849e-04, -2.30138358e-02,\n",
              "              -3.17210797e-03, -3.26714292e-02, -8.09593871e-02, -6.47264114e-03,\n",
              "               1.03973225e-01, -9.88875749e-04, -1.70548968e-02,  3.73974815e-02,\n",
              "              -1.20719895e-02,  7.56168887e-02,  4.82879579e-02,  2.77398918e-02,\n",
              "              -2.40797672e-05, -1.08904755e-02, -2.44008307e-03,  2.23973934e-02,\n",
              "              -1.01096489e-01,  1.06849954e-01, -5.95893972e-02,  1.48973493e-02,\n",
              "              -4.54626000e-03, -2.67124884e-02,  3.02056596e-02,  2.41439790e-02,\n",
              "              -5.36818244e-03,  2.47604214e-02,  8.06511659e-03, -1.59453005e-01,\n",
              "              -6.78086206e-02,  1.23288408e-01, -6.94524646e-02,  3.20549868e-02,\n",
              "              -5.47092315e-03,  1.41781662e-02,  2.52741221e-02,  2.17809509e-02,\n",
              "              -9.98636112e-02,  1.86987408e-02, -3.86303663e-02, -5.83565123e-02,\n",
              "               2.63272109e-03, -6.86305463e-02,  7.02743903e-02,  3.78084444e-02,\n",
              "              -3.12330630e-02, -5.75345904e-02,  1.03562258e-01, -4.54112291e-02,\n",
              "               6.78086206e-02, -1.31507628e-02,  4.66441140e-02, -3.90413292e-02,\n",
              "               4.93153632e-02, -9.32882279e-02, -3.49317156e-02,  3.31337587e-03,\n",
              "               1.48768008e-01, -6.16442040e-02,  5.54797836e-02,  4.21235375e-02,\n",
              "              -9.70896147e-03, -1.64384544e-01,  9.82454512e-04, -5.01372851e-02,\n",
              "               6.67812210e-03,  7.03771319e-03, -2.67124884e-02,  5.11646867e-02,\n",
              "               2.65840627e-03,  9.60622169e-03, -7.50004454e-03, -3.57022672e-03,\n",
              "              -3.61646004e-02,  1.05822552e-02, -1.43014550e-01,  5.79455495e-02,\n",
              "              -6.57538138e-03, -4.27399799e-02,  2.97946986e-02, -9.20553431e-02,\n",
              "               5.15756495e-02, -1.95206646e-02,  5.15756495e-02, -5.79455495e-02,\n",
              "               7.39730448e-02,  1.88014824e-02, -1.24932252e-01,  2.01371070e-02,\n",
              "              -1.43014550e-01, -3.18495035e-02,  2.85618138e-02,  5.79455495e-02,\n",
              "               8.52744840e-03, -2.03425866e-02,  3.86303663e-02, -4.02742140e-02,\n",
              "               4.72605564e-02, -7.80826584e-02, -6.41099736e-02, -7.68497735e-02,\n",
              "              -5.38359359e-02, -4.47947867e-02, -7.68497735e-02,  1.38057326e-03,\n",
              "               3.53426747e-02, -3.12073785e-03,  1.03767738e-02,  1.01918414e-01,\n",
              "              -2.75344104e-02, -1.03151299e-01,  3.06166206e-02,  3.92981805e-03,\n",
              "               3.63700800e-02,  1.11781485e-01, -7.64388144e-02, -7.76716918e-02,\n",
              "               2.07535475e-02,  1.31507628e-02, -4.93153632e-02, -9.53430310e-02,\n",
              "               1.46302238e-01, -8.83566886e-02,  5.54797836e-02, -7.06853494e-02,\n",
              "               1.62329730e-02,  3.12330630e-02, -3.41097936e-02, -4.86989208e-02,\n",
              "               8.13703462e-02,  1.41781662e-02,  1.65411942e-02, -2.60960460e-02,\n",
              "               5.30140139e-02,  4.77742590e-03, -9.20553431e-02,  7.52059296e-02,\n",
              "              -5.26030511e-02,  2.38357577e-02,  4.56167087e-02,  2.91782562e-02,\n",
              "               4.15070951e-02, -5.75345894e-03,  3.34933512e-02, -7.02743903e-02,\n",
              "              -1.44863874e-02, -1.15069179e-02, -3.82194072e-02, -5.46578579e-02,\n",
              "               8.17813054e-02, -4.68495935e-02, -4.91098799e-02, -5.54797836e-02,\n",
              "              -5.26030511e-02, -6.16442040e-02, -3.10275815e-02,  6.90415055e-02,\n",
              "               1.16096586e-02, -1.16713025e-01, -3.65755595e-02,  2.20891722e-02,\n",
              "              -1.98256748e-04,  8.01374614e-02, -9.98636112e-02, -4.52057496e-02,\n",
              "              -4.56167087e-02,  1.01918414e-01, -4.33564223e-02,  1.97775150e-03,\n",
              "              -1.54110510e-02,  7.27401599e-02, -7.41656811e-04, -1.25754178e-01,\n",
              "               4.17125784e-02, -4.45893072e-02, -6.90415055e-02, -6.67812210e-03,\n",
              "              -3.73974815e-02, -5.87674715e-02,  5.38359359e-02, -4.86989208e-02,\n",
              "               2.37330180e-02, -2.37330180e-02,  6.98634312e-02, -2.50686426e-02,\n",
              "               4.06851731e-02,  5.19866124e-02,  4.23290208e-02, -6.83223223e-03,\n",
              "              -9.04115010e-03, -1.33562442e-02, -2.41439790e-02,  3.12330630e-02,\n",
              "              -1.57192722e-02, -5.79455495e-02,  7.02743903e-02, -2.59933062e-02,\n",
              "               4.29454595e-02,  5.23975715e-02,  1.37261093e-01, -5.17811291e-02,\n",
              "              -5.21920919e-02, -3.78084444e-02, -1.10137641e-01, -7.39730448e-02,\n",
              "              -5.91784343e-02, -3.22604664e-02,  3.00001781e-02, -4.54112291e-02,\n",
              "               1.08493797e-01, -2.09590290e-02, -3.73974815e-02, -4.64386344e-02,\n",
              "               6.12332411e-02,  3.78084444e-02, -4.58221920e-02, -3.73974815e-02,\n",
              "               1.09161611e-03,  5.26030511e-02,  1.13425329e-01, -5.42468987e-02,\n",
              "               4.29454595e-02, -1.25343213e-02, -2.21919138e-02, -4.95208427e-02,\n",
              "              -9.73978415e-02, -5.17811291e-02, -1.21644557e-01, -9.76033229e-03,\n",
              "               7.72607327e-02, -1.43836476e-02, -5.26030511e-02,  1.45891281e-02,\n",
              "              -3.90413292e-02,  6.49318919e-02, -5.46578579e-02,  3.67810391e-02,\n",
              "               2.75344104e-02, -9.04114991e-02,  1.50000891e-02,  6.00003563e-02,\n",
              "              -1.06593105e-03,  5.46578579e-02,  5.13701700e-02,  1.86987408e-02],\n",
              "             dtype=float32)                                                       ,\n",
              "       array([ 0.06430785, -0.1344034 ,  0.0127008 , -0.08006327, -0.01438888,\n",
              "              -0.12025566,  0.0237939 , -0.04067471, -0.10803717,  0.08167096,\n",
              "               0.07813403, -0.03826317, -0.07427556,  0.04067471, -0.15176651,\n",
              "               0.04212164,  0.0713817 ,  0.06237861, -0.05369705, -0.05337551,\n",
              "              -0.00956579, -0.02990315,  0.0418001 , -0.00339626, -0.0639863 ,\n",
              "              -0.08231404, -0.0237939 , -0.01647888, -0.09903408, -0.07106017,\n",
              "               0.00964618, -0.03922778,  0.02315082, -0.13568956,  0.00675232,\n",
              "              -0.06848785,  0.00035671,  0.10032023,  0.06591554, -0.0116558 ,\n",
              "               0.02315082,  0.09710485,  0.01133426,  0.00166798, -0.02958161,\n",
              "              -0.05723398, -0.131188  , -0.11575412, -0.02877776, -0.0254016 ,\n",
              "               0.01093233,  0.00912368,  0.10353563, -0.04790934,  0.04212164,\n",
              "               0.05048166, -0.05176781,  0.05852014,  0.09003098, -0.08006327,\n",
              "              -0.09581868, -0.04051394, -0.00215029,  0.06109245,  0.07942019,\n",
              "              -0.04598011, -0.03794163, -0.01856889, -0.03472624,  0.02138236,\n",
              "               0.01454965,  0.04694473, -0.01929235, -0.00888252,  0.05434013,\n",
              "              -0.04598011,  0.04372934, -0.0237939 ,  0.03038546, -0.00550636,\n",
              "               0.08488636, -0.00691309, -0.00723463, -0.04565857, -0.05498321,\n",
              "               0.05884168, -0.04983858,  0.19035122,  0.00279337,  0.034887  ,\n",
              "               0.06109245, -0.10160639, -0.05112474, -0.03536931, -0.11511104,\n",
              "               0.0364947 , -0.05369705,  0.11318181, -0.06302169, -0.00108519,\n",
              "               0.00512453, -0.03424393,  0.00751598, -0.03745932,  0.08070634,\n",
              "               0.03922778,  0.00992752, -0.01816697, -0.10675102,  0.04855242,\n",
              "              -0.030707  , -0.08102788, -0.0491955 , -0.07877711, -0.030707  ,\n",
              "               0.01438888,  0.02282928, -0.07266787, -0.07877711, -0.05401859,\n",
              "               0.02459775,  0.0819925 ,  0.00343645, -0.07620479, -0.05016012,\n",
              "               0.02138236, -0.02057851, -0.02893853, -0.05401859,  0.01366542,\n",
              "              -0.06012783, -0.00594848,  0.07588325,  0.05884168, -0.06752323,\n",
              "              -0.06591554,  0.03199315,  0.08006327,  0.04147856,  0.02057851,\n",
              "               0.0381024 , -0.05562628,  0.0401924 , -0.00140673,  0.00546617,\n",
              "               0.03778086,  0.10932334, -0.01350465, -0.08874483,  0.00811887,\n",
              "               0.08810174, -0.02958161, -0.05208935,  0.04598011, -0.07845557,\n",
              "              -0.00275318, -0.00755617, -0.00226082,  0.13183108, -0.04405087,\n",
              "               0.06366476,  0.04983858,  0.01446927, -0.03311854, -0.01736312,\n",
              "              -0.03858471,  0.00932464,  0.03569085, -0.08810174, -0.01221849,\n",
              "               0.06237861, -0.11575412,  0.05884168, -0.01173618,  0.11832643,\n",
              "              -0.01511234,  0.03778086, -0.03971009,  0.0311893 , -0.00743559,\n",
              "               0.09324637, -0.03135007, -0.01117349,  0.00042453, -0.04630165,\n",
              "               0.0639863 ,  0.05691244, -0.00175842,  0.01760427,  0.04372934,\n",
              "              -0.01414773,  0.02347236,  0.01945312,  0.06462938,  0.06012783,\n",
              "               0.05337551,  0.06752323, -0.07073863,  0.00502405, -0.030707  ,\n",
              "              -0.08295712, -0.03295777, -0.04598011, -0.04469395,  0.02459775,\n",
              "              -0.0274916 ,  0.04405087, -0.02266851,  0.01318311,  0.00224073,\n",
              "              -0.07588325, -0.09903408,  0.00480299,  0.00908348,  0.07170325,\n",
              "               0.01712196,  0.00667194,  0.00147707, -0.08874483, -0.12475722,\n",
              "               0.05112474,  0.04565857, -0.01856889,  0.09388945,  0.00226082,\n",
              "              -0.04662319,  0.0639863 ,  0.0713817 , -0.02282928,  0.09388945,\n",
              "              -0.04372934, -0.04437241, -0.0565909 ,  0.05852014, -0.01141464,\n",
              "              -0.07395402,  0.01213811, -0.01599658, -0.08360019,  0.06945247,\n",
              "               0.0475878 , -0.08745867,  0.04662319,  0.02443698,  0.03922778,\n",
              "               0.07588325, -0.04823088,  0.03231469,  0.04469395, -0.00178856,\n",
              "              -0.07524018,  0.0163985 ,  0.03842394,  0.02684852, -0.00956579,\n",
              "               0.05626936,  0.03633393, -0.0364947 , -0.00803848, -0.06141399,\n",
              "              -0.00631021,  0.04565857,  0.01454965, -0.12861569,  0.08167096,\n",
              "               0.030707  ,  0.06495092,  0.14083418,  0.00711406,  0.01655927,\n",
              "               0.01358503, -0.034887  , -0.08424328,  0.04115702, -0.0364947 ,\n",
              "               0.01768466, -0.03890625,  0.01181657, -0.03842394,  0.02395467,\n",
              "               0.02025697,  0.0137458 , -0.12282798, -0.00287376,  0.11704028,\n",
              "              -0.04469395,  0.01567504,  0.02717006,  0.03167161,  0.09774792,\n",
              "               0.0031953 , -0.00956579, -0.01615735, -0.05401859, -0.01471042,\n",
              "              -0.09196021, -0.03327931,  0.03569085,  0.02491929,  0.11704028],\n",
              "             dtype=float32)                                                    ,\n",
              "       ...,\n",
              "       array([0., 0., 0., 0., 0., 0., 0., 0., 0., 0., 0., 0., 0., 0., 0., 0., 0.,\n",
              "              0., 0., 0., 0., 0., 0., 0., 0., 0., 0., 0., 0., 0., 0., 0., 0., 0.,\n",
              "              0., 0., 0., 0., 0., 0., 0., 0., 0., 0., 0., 0., 0., 0., 0., 0., 0.,\n",
              "              0., 0., 0., 0., 0., 0., 0., 0., 0., 0., 0., 0., 0., 0., 0., 0., 0.,\n",
              "              0., 0., 0., 0., 0., 0., 0., 0., 0., 0., 0., 0., 0., 0., 0., 0., 0.,\n",
              "              0., 0., 0., 0., 0., 0., 0., 0., 0., 0., 0., 0., 0., 0., 0., 0., 0.,\n",
              "              0., 0., 0., 0., 0., 0., 0., 0., 0., 0., 0., 0., 0., 0., 0., 0., 0.,\n",
              "              0., 0., 0., 0., 0., 0., 0., 0., 0., 0., 0., 0., 0., 0., 0., 0., 0.,\n",
              "              0., 0., 0., 0., 0., 0., 0., 0., 0., 0., 0., 0., 0., 0., 0., 0., 0.,\n",
              "              0., 0., 0., 0., 0., 0., 0., 0., 0., 0., 0., 0., 0., 0., 0., 0., 0.,\n",
              "              0., 0., 0., 0., 0., 0., 0., 0., 0., 0., 0., 0., 0., 0., 0., 0., 0.,\n",
              "              0., 0., 0., 0., 0., 0., 0., 0., 0., 0., 0., 0., 0., 0., 0., 0., 0.,\n",
              "              0., 0., 0., 0., 0., 0., 0., 0., 0., 0., 0., 0., 0., 0., 0., 0., 0.,\n",
              "              0., 0., 0., 0., 0., 0., 0., 0., 0., 0., 0., 0., 0., 0., 0., 0., 0.,\n",
              "              0., 0., 0., 0., 0., 0., 0., 0., 0., 0., 0., 0., 0., 0., 0., 0., 0.,\n",
              "              0., 0., 0., 0., 0., 0., 0., 0., 0., 0., 0., 0., 0., 0., 0., 0., 0.,\n",
              "              0., 0., 0., 0., 0., 0., 0., 0., 0., 0., 0., 0., 0., 0., 0., 0., 0.,\n",
              "              0., 0., 0., 0., 0., 0., 0., 0., 0., 0., 0.], dtype=float32)        ,\n",
              "       array([-3.00636776e-02,  4.56888787e-02,  3.83707471e-02,  2.90747397e-02,\n",
              "               2.00754162e-02,  2.52178870e-02,  1.88886914e-02, -3.87663208e-02,\n",
              "               8.62352848e-02, -2.92725284e-02, -1.72074996e-02, -1.08387470e-01,\n",
              "              -7.71370679e-02,  6.48742542e-02, -1.82953291e-02,  1.00080401e-01,\n",
              "               4.56888787e-02,  1.34495392e-01,  3.90630029e-03,  6.09185025e-02,\n",
              "               4.60844524e-02, -6.52698278e-02,  2.21521836e-02,  7.27857426e-02,\n",
              "               6.13140780e-03,  7.12034479e-03, -7.59503394e-02,  3.10526136e-02,\n",
              "               1.37462206e-02, -5.10291383e-02, -7.75326416e-02,  1.58229878e-03,\n",
              "               3.06570400e-02, -1.14716664e-01, -8.10928121e-02, -2.04709899e-02,\n",
              "               5.37981577e-02,  5.81494793e-02, -6.72476962e-02,  3.67884487e-02,\n",
              "              -1.51109532e-01, -3.24371271e-02, -7.71370679e-02,  3.79751697e-02,\n",
              "              -4.72711772e-02, -7.35768974e-02,  3.42172123e-02,  3.69862355e-02,\n",
              "              -7.56536610e-03, -8.34415376e-04,  1.68119241e-02, -1.08288573e-02,\n",
              "              -3.34260613e-02,  5.22158593e-02, -4.77162004e-03, -1.97787359e-02,\n",
              "              -2.19543967e-02, -4.39087935e-02, -4.23264913e-02, -3.24371271e-02,\n",
              "              -3.65906581e-02,  6.72476962e-02,  4.96446267e-02,  3.44149992e-02,\n",
              "               3.08548268e-02,  7.87193626e-02, -2.34378017e-02,  1.72470570e-01,\n",
              "              -3.04592513e-02, -6.84344247e-02, -7.75326416e-02,  3.30304876e-02,\n",
              "               1.21045858e-01,  4.37110029e-02, -1.18672408e-01, -3.99530455e-02,\n",
              "              -5.73583320e-02,  1.43395830e-02, -4.45021540e-02,  8.42574090e-02,\n",
              "              -2.21521836e-02, -7.96094071e-03,  1.82953291e-02,  3.87663208e-02,\n",
              "              -8.85098428e-03, -3.85685335e-03, -1.06014021e-01, -1.18672410e-02,\n",
              "              -3.36238481e-02, -5.73583320e-02,  1.52691841e-01, -1.06014021e-01,\n",
              "              -1.38451150e-02, -2.47234181e-02, -1.85920112e-02,  3.44149992e-02,\n",
              "               1.00475974e-01,  3.16459760e-02,  3.57995108e-02,  3.22393365e-02,\n",
              "               5.31553524e-04,  7.81260058e-03,  2.45256312e-02,  5.49848825e-02,\n",
              "              -2.68990789e-02, -2.61079296e-02,  8.90043098e-03,  3.34260613e-02,\n",
              "               5.10291383e-02, -3.08548268e-02,  4.54910919e-02,  2.76902299e-02,\n",
              "               2.25477573e-02, -5.14247119e-02, -2.47234181e-02,  1.01860482e-02,\n",
              "               1.09771984e-02, -6.72476962e-02, -2.05698851e-02,  5.10291383e-02,\n",
              "              -1.29748508e-01, -4.76667508e-02, -8.62352848e-02,  5.61716072e-02,\n",
              "               5.41937351e-02,  1.26583902e-02,  2.18555015e-02, -8.22795406e-02,\n",
              "               2.06687786e-02,  3.48105729e-02, -3.97552587e-02, -1.71086062e-02,\n",
              "              -1.02058277e-01, -8.97954553e-02, -6.13140799e-02, -3.93596813e-02,\n",
              "               4.54910891e-03, -2.86791660e-02,  6.44786730e-02,  5.57760336e-02,\n",
              "               8.14883858e-02,  8.49867502e-05, -6.05229288e-02, -4.39087935e-02,\n",
              "              -9.01910290e-02, -8.06972384e-02,  8.10928121e-02,  5.85450567e-02,\n",
              "              -6.52698278e-02,  9.49379280e-02,  2.68990789e-02, -6.01273552e-02,\n",
              "              -2.52178870e-02,  2.59101428e-02,  1.37462206e-02,  2.41053337e-03,\n",
              "               3.40194255e-02, -1.27375051e-01, -1.26583902e-02, -1.06805168e-01,\n",
              "              -4.11397703e-02, -6.72476972e-03,  3.95574719e-02,  6.13140799e-02,\n",
              "              -2.19543967e-02, -4.60844524e-02, -7.43680447e-02, -9.37512070e-02,\n",
              "              -1.71086062e-02, -6.60609752e-02,  4.48977277e-02,  6.40830994e-02,\n",
              "               5.30070104e-02, -4.68756035e-02, -6.52698241e-03,  4.37110029e-02,\n",
              "               6.40830994e-02,  3.22393365e-02, -2.78880168e-02,  5.04357740e-02,\n",
              "              -1.15507811e-01, -6.09185025e-02,  3.12504023e-02, -7.87193626e-02,\n",
              "               6.76432773e-02, -7.36757880e-03, -1.62976772e-01,  4.48977277e-02,\n",
              "              -5.26114367e-02,  4.94468361e-02, -1.27572846e-02, -1.90864801e-02,\n",
              "              -7.12034479e-02, -6.82366360e-03, -3.93596813e-02,  4.52438556e-03,\n",
              "               3.48105729e-02, -1.18672410e-02,  5.73583320e-02,  1.46362642e-02,\n",
              "              -1.01267122e-01,  2.02732030e-02,  7.31813163e-02, -1.32913098e-01,\n",
              "              -2.36108643e-03, -7.35768974e-02,  6.72476962e-02, -2.80858036e-02,\n",
              "              -1.21144755e-02, -4.60844524e-02, -1.13134362e-01, -1.91853736e-02,\n",
              "               3.42172123e-02,  3.36238481e-02,  2.84813792e-02,  1.52296256e-02,\n",
              "               5.06335609e-02,  2.27455460e-02, -4.78645377e-02,  3.61950845e-02,\n",
              "              -1.24606034e-02, -9.61246490e-02,  6.72476962e-02, -2.90747397e-02,\n",
              "               6.92255720e-02, -9.57290754e-02, -1.90864801e-02, -1.34124549e-03,\n",
              "              -8.25762190e-03,  8.10928121e-02,  9.77069512e-02,  3.63928713e-02,\n",
              "               2.59101428e-02, -5.41937351e-02,  3.65906605e-03,  1.06805172e-02,\n",
              "               1.17090113e-01,  4.56888787e-02,  1.79244787e-03, -8.78175870e-02,\n",
              "               1.26583902e-02,  1.43395830e-02,  1.19463563e-01, -8.99932440e-03,\n",
              "               6.56654015e-02, -7.66425999e-03,  1.28561780e-02, -6.96211457e-02,\n",
              "              -6.76432773e-02, -2.40311623e-02, -8.50485638e-02, -3.90630029e-03,\n",
              "               7.47636184e-02, -1.64163504e-02,  6.52698241e-03,  1.45373698e-02,\n",
              "              -1.06310705e-02, -9.64213349e-03, -4.80623245e-02,  1.37659997e-01,\n",
              "              -6.97200419e-03, -1.41417952e-02, -5.37981577e-02,  3.73323634e-03,\n",
              "              -1.19661344e-02,  4.87051345e-03, -6.88299984e-02, -2.32400140e-03,\n",
              "              -3.77773829e-02,  8.66308585e-02, -2.96681020e-02, -1.07794106e-02,\n",
              "               3.99530455e-02, -6.60609752e-02, -2.68990789e-02, -6.32919520e-02,\n",
              "               1.26089435e-02, -1.23419307e-01, -4.47493885e-03,  2.94703152e-02,\n",
              "               8.75208993e-03, -4.15353440e-02,  1.26583904e-01,  2.42289510e-02,\n",
              "              -1.21837005e-01, -7.23901689e-02, -2.80858036e-02,  5.71110984e-03,\n",
              "               1.40824601e-01,  2.27455460e-02,  9.83992033e-03,  2.06687786e-02,\n",
              "              -6.47753570e-03, -2.38333754e-02, -2.24488638e-02,  1.02849424e-01,\n",
              "              -1.35484338e-02,  1.07794106e-02,  7.87193626e-02,  2.82835905e-02],\n",
              "             dtype=float32)                                                       ,\n",
              "       array([-1.95839070e-02,  1.46267295e-01, -6.67076781e-02,  2.38678865e-02,\n",
              "              -6.79316744e-02,  1.92779079e-02, -9.02695674e-03, -1.13219455e-01,\n",
              "              -2.38678865e-02, -4.10038047e-02,  1.85894109e-02, -4.93422616e-03,\n",
              "               4.83477674e-02,  2.03489028e-02, -5.14077544e-02, -1.38464337e-02,\n",
              "              -3.12118512e-02,  3.19768451e-02, -3.09058521e-02, -1.77479148e-01,\n",
              "               1.67534202e-02, -1.88189093e-02, -5.20197526e-02, -7.16036558e-02,\n",
              "              -1.14749447e-02, -2.79988665e-02, -1.32191360e-01,  2.95288581e-02,\n",
              "               1.45043299e-01,  5.39322430e-03, -3.91678140e-02,  3.67198251e-02,\n",
              "              -4.31457944e-02,  1.92779079e-02,  6.11997060e-02, -4.20747977e-03,\n",
              "               5.11017554e-02,  1.11689465e-02,  6.73196763e-02,  2.34088879e-02,\n",
              "              -1.09547473e-01, -3.65763874e-04,  6.48716912e-02,  4.11185529e-03,\n",
              "               4.10038047e-02, -2.93758586e-02, -2.73868684e-02,  3.02938558e-02,\n",
              "               1.30814370e-02, -3.35068405e-02, -6.21177033e-02, -4.77357730e-02,\n",
              "               8.44555944e-02, -9.42475498e-02, -9.86845233e-03, -7.45871430e-03,\n",
              "               9.24115553e-02,  3.79438177e-02, -4.58997786e-02, -2.84578633e-02,\n",
              "               2.14198977e-02,  1.36169344e-02, -9.21820570e-03,  4.34517935e-02,\n",
              "              -8.69035870e-02,  9.42475498e-02, -2.03489028e-02, -7.84121267e-03,\n",
              "               5.84457219e-02,  1.35863349e-01, -5.87517172e-02,  1.24847405e-01,\n",
              "              -2.21848935e-02,  8.03246163e-03, -1.63709223e-02,  2.05631018e-01,\n",
              "               2.47858819e-02, -3.61078270e-02,  3.15178484e-02,  1.35404356e-02,\n",
              "               3.27418447e-02, -1.70594174e-02,  6.67076781e-02, -2.63158735e-02,\n",
              "              -8.60620872e-04, -3.12118512e-02,  3.80968191e-02, -3.44248340e-02,\n",
              "              -3.84028144e-02, -9.66955349e-02,  3.50368321e-02, -1.56824253e-02,\n",
              "              -1.21634416e-02,  3.50368321e-02, -1.98899042e-02,  2.27968916e-02,\n",
              "               6.64016828e-02,  6.30356967e-02,  1.05875492e-01,  7.22921547e-03,\n",
              "              -6.73196763e-02, -2.35618874e-02, -3.97798084e-02,  1.90484095e-02,\n",
              "               6.31121965e-03,  4.43697870e-02,  8.32315981e-02, -3.68728228e-02,\n",
              "              -1.00214519e-02,  3.10588516e-02,  2.66218726e-02, -2.41930084e-03,\n",
              "               2.12668981e-02,  3.19768451e-02,  1.23164412e-02, -5.38557433e-02,\n",
              "               7.52756372e-02, -4.98777628e-02,  7.71116316e-02, -2.89168619e-02,\n",
              "               3.42718363e-02, -1.41371325e-01, -9.60070360e-03,  2.70808712e-02,\n",
              "               1.00979514e-01,  2.64688730e-02,  1.04039498e-02, -3.55723291e-03,\n",
              "               8.07836130e-02,  3.27418447e-02, -9.91435274e-02,  4.49817851e-02,\n",
              "              -1.05569493e-02,  1.26989391e-02, -5.45059913e-04, -3.36598381e-02,\n",
              "              -8.32315981e-02,  7.95596186e-03, -8.45320988e-03,  1.35404356e-02,\n",
              "               8.99635702e-02,  4.68177758e-02, -1.18335374e-04, -3.87088135e-02,\n",
              "               4.13098037e-02,  2.75398679e-02,  5.35497442e-02, -2.31028888e-02,\n",
              "              -1.94309074e-02, -8.07836130e-02,  7.31336474e-02,  9.79195312e-02,\n",
              "               4.92657647e-02,  5.66097274e-02,  1.00979514e-01, -5.38557433e-02,\n",
              "              -1.26989391e-02, -4.46757860e-02, -6.11997060e-02,  8.38435963e-02,\n",
              "              -5.01837581e-02, -7.42046442e-03, -1.60649233e-02,  8.50675926e-02,\n",
              "               8.50675926e-02,  1.78244151e-02,  4.22277972e-02,  4.34517935e-02,\n",
              "              -1.94615066e-01, -4.71237749e-02,  9.54715461e-02, -4.92657647e-02,\n",
              "               3.19385971e-03, -6.21177033e-02, -1.57895237e-01,  8.81275758e-02,\n",
              "               1.16279442e-02,  1.70594174e-02,  7.87946209e-03,  4.74297740e-02,\n",
              "              -5.78337237e-02, -4.52877842e-02, -6.02817126e-02, -1.24847405e-01,\n",
              "               3.50368321e-02,  6.23472035e-03,  7.36308983e-04,  6.48716912e-02,\n",
              "              -3.71788219e-02,  1.39535338e-01,  3.85558158e-02,  5.77572221e-03,\n",
              "               2.52448786e-02, -4.71237749e-02,  1.29284384e-02, -1.88954100e-02,\n",
              "               4.65117767e-02,  2.23378930e-02,  3.12118512e-02, -1.43054314e-02,\n",
              "              -3.32008414e-02,  3.87088135e-02, -5.04897572e-02, -4.18835506e-03,\n",
              "               3.94738093e-02, -3.24358456e-02, -2.54361285e-03,  8.69035870e-02,\n",
              "              -1.54529260e-02, -4.31457944e-02, -1.20563425e-01,  9.21820570e-03,\n",
              "               4.22277972e-02,  6.61721826e-03, -3.91678140e-02,  8.01716149e-02,\n",
              "               2.76928674e-02,  3.74848209e-02, -1.66769195e-02, -5.07957563e-02,\n",
              "               3.22828442e-02, -2.47858819e-02, -5.38557433e-02, -5.11017554e-02,\n",
              "              -2.95288581e-02, -3.92060634e-03, -1.35404356e-02,  9.97555256e-02,\n",
              "               3.25888433e-02, -1.98899042e-02,  3.17473477e-03,  2.31411401e-03,\n",
              "               1.74419172e-02, -3.78673198e-03, -5.69922291e-03,  2.76928674e-02,\n",
              "               1.17503434e-01, -3.04468535e-02,  7.49696419e-02,  1.14443451e-01,\n",
              "              -3.94738093e-02,  4.62057777e-02,  1.28519386e-02, -2.93758586e-02,\n",
              "               2.61628740e-02,  5.07957563e-02,  2.94523593e-03,  8.03246163e-03,\n",
              "              -7.26746535e-03, -5.29377460e-02, -2.96818577e-02,  2.15728972e-02,\n",
              "              -7.52756372e-02, -4.40637879e-02,  2.52448786e-02, -5.53857349e-02,\n",
              "               9.05755684e-02, -4.22277972e-02, -2.23378930e-02, -5.43147419e-03,\n",
              "              -2.43268833e-02,  6.11997070e-03, -1.79009140e-02, -2.01959029e-01,\n",
              "               1.52999267e-01,  9.73075330e-02, -2.36192625e-03,  4.39872872e-03,\n",
              "              -6.42596930e-02, -1.19339433e-02,  8.07836130e-02,  1.00979514e-01,\n",
              "               1.17044440e-02,  9.52420477e-03,  1.25459395e-02,  1.56059256e-02,\n",
              "               2.41738837e-02, -4.58997786e-02, -5.47737367e-02,  7.50652631e-04,\n",
              "               2.24908926e-02,  9.17995572e-02, -4.95717637e-02, -6.51776865e-02,\n",
              "              -2.95288581e-02,  1.18574435e-02, -6.36476949e-02,  6.02817126e-02,\n",
              "               7.61171337e-03, -1.87424105e-02, -5.69157265e-02, -4.74297740e-02,\n",
              "              -3.35068405e-02, -1.92014072e-02, -4.31457944e-02,  2.69278716e-02,\n",
              "               2.55508777e-02, -1.34639353e-01, -7.89476186e-02, -2.65836227e-03],\n",
              "             dtype=float32)                                                       ],\n",
              "      dtype=object)"
            ]
          },
          "metadata": {},
          "execution_count": 102
        }
      ]
    },
    {
      "cell_type": "code",
      "source": [
        "y_train"
      ],
      "metadata": {
        "colab": {
          "base_uri": "https://localhost:8080/"
        },
        "id": "KohRR-5Jl11_",
        "outputId": "f50e9ab8-3f54-48b0-d1db-aa24fc120615"
      },
      "execution_count": 103,
      "outputs": [
        {
          "output_type": "execute_result",
          "data": {
            "text/plain": [
              "54060    0\n",
              "18586    1\n",
              "46903    0\n",
              "10325    1\n",
              "51012    0\n",
              "        ..\n",
              "10836    1\n",
              "38389    0\n",
              "21024    1\n",
              "11149    1\n",
              "45558    0\n",
              "Name: Label, Length: 16000, dtype: int64"
            ]
          },
          "metadata": {},
          "execution_count": 103
        }
      ]
    },
    {
      "cell_type": "code",
      "source": [
        "X_train=np.stack(X_train)\n",
        "X_test=np.stack(X_test)"
      ],
      "metadata": {
        "id": "wmpXB9NUpuZ8"
      },
      "execution_count": 104,
      "outputs": []
    },
    {
      "cell_type": "code",
      "source": [
        "X_train"
      ],
      "metadata": {
        "colab": {
          "base_uri": "https://localhost:8080/"
        },
        "id": "AwOtbnRcquFK",
        "outputId": "62485efb-4d3c-4319-b42e-4883e01757e1"
      },
      "execution_count": 105,
      "outputs": [
        {
          "output_type": "execute_result",
          "data": {
            "text/plain": [
              "array([[-0.02474504,  0.03803404, -0.00263489, ..., -0.12280871,\n",
              "         0.0242868 ,  0.08492742],\n",
              "       [ 0.03369883, -0.04479479, -0.01674668, ...,  0.05465786,\n",
              "         0.05137017,  0.01869874],\n",
              "       [ 0.06430785, -0.1344034 ,  0.0127008 , ...,  0.03569085,\n",
              "         0.02491929,  0.11704028],\n",
              "       ...,\n",
              "       [ 0.        ,  0.        ,  0.        , ...,  0.        ,\n",
              "         0.        ,  0.        ],\n",
              "       [-0.03006368,  0.04568888,  0.03837075, ...,  0.01077941,\n",
              "         0.07871936,  0.02828359],\n",
              "       [-0.01958391,  0.1462673 , -0.06670768, ..., -0.13463935,\n",
              "        -0.07894762, -0.00265836]], dtype=float32)"
            ]
          },
          "metadata": {},
          "execution_count": 105
        }
      ]
    },
    {
      "cell_type": "code",
      "source": [
        "y_train.ndim"
      ],
      "metadata": {
        "colab": {
          "base_uri": "https://localhost:8080/"
        },
        "id": "I9UIJ1Deq-3Y",
        "outputId": "acdc4d13-2b81-41eb-9275-ea5096e64387"
      },
      "execution_count": 106,
      "outputs": [
        {
          "output_type": "execute_result",
          "data": {
            "text/plain": [
              "1"
            ]
          },
          "metadata": {},
          "execution_count": 106
        }
      ]
    },
    {
      "cell_type": "code",
      "source": [
        "X_train.ndim"
      ],
      "metadata": {
        "colab": {
          "base_uri": "https://localhost:8080/"
        },
        "id": "9tcFcANfrzw1",
        "outputId": "6832a309-5461-43fb-9c5e-eed17a00e903"
      },
      "execution_count": 107,
      "outputs": [
        {
          "output_type": "execute_result",
          "data": {
            "text/plain": [
              "2"
            ]
          },
          "metadata": {},
          "execution_count": 107
        }
      ]
    },
    {
      "cell_type": "code",
      "source": [
        "from sklearn.ensemble import RandomForestRegressor\n",
        "rf=RandomForestRegressor()\n",
        "rf.fit(X_train,y_train)"
      ],
      "metadata": {
        "colab": {
          "base_uri": "https://localhost:8080/",
          "height": 74
        },
        "id": "nF_UtYXEoXzD",
        "outputId": "b9b07b25-814c-40d8-8a4a-5d5c50ece2fe"
      },
      "execution_count": 109,
      "outputs": [
        {
          "output_type": "execute_result",
          "data": {
            "text/plain": [
              "RandomForestRegressor()"
            ],
            "text/html": [
              "<style>#sk-container-id-1 {color: black;background-color: white;}#sk-container-id-1 pre{padding: 0;}#sk-container-id-1 div.sk-toggleable {background-color: white;}#sk-container-id-1 label.sk-toggleable__label {cursor: pointer;display: block;width: 100%;margin-bottom: 0;padding: 0.3em;box-sizing: border-box;text-align: center;}#sk-container-id-1 label.sk-toggleable__label-arrow:before {content: \"▸\";float: left;margin-right: 0.25em;color: #696969;}#sk-container-id-1 label.sk-toggleable__label-arrow:hover:before {color: black;}#sk-container-id-1 div.sk-estimator:hover label.sk-toggleable__label-arrow:before {color: black;}#sk-container-id-1 div.sk-toggleable__content {max-height: 0;max-width: 0;overflow: hidden;text-align: left;background-color: #f0f8ff;}#sk-container-id-1 div.sk-toggleable__content pre {margin: 0.2em;color: black;border-radius: 0.25em;background-color: #f0f8ff;}#sk-container-id-1 input.sk-toggleable__control:checked~div.sk-toggleable__content {max-height: 200px;max-width: 100%;overflow: auto;}#sk-container-id-1 input.sk-toggleable__control:checked~label.sk-toggleable__label-arrow:before {content: \"▾\";}#sk-container-id-1 div.sk-estimator input.sk-toggleable__control:checked~label.sk-toggleable__label {background-color: #d4ebff;}#sk-container-id-1 div.sk-label input.sk-toggleable__control:checked~label.sk-toggleable__label {background-color: #d4ebff;}#sk-container-id-1 input.sk-hidden--visually {border: 0;clip: rect(1px 1px 1px 1px);clip: rect(1px, 1px, 1px, 1px);height: 1px;margin: -1px;overflow: hidden;padding: 0;position: absolute;width: 1px;}#sk-container-id-1 div.sk-estimator {font-family: monospace;background-color: #f0f8ff;border: 1px dotted black;border-radius: 0.25em;box-sizing: border-box;margin-bottom: 0.5em;}#sk-container-id-1 div.sk-estimator:hover {background-color: #d4ebff;}#sk-container-id-1 div.sk-parallel-item::after {content: \"\";width: 100%;border-bottom: 1px solid gray;flex-grow: 1;}#sk-container-id-1 div.sk-label:hover label.sk-toggleable__label {background-color: #d4ebff;}#sk-container-id-1 div.sk-serial::before {content: \"\";position: absolute;border-left: 1px solid gray;box-sizing: border-box;top: 0;bottom: 0;left: 50%;z-index: 0;}#sk-container-id-1 div.sk-serial {display: flex;flex-direction: column;align-items: center;background-color: white;padding-right: 0.2em;padding-left: 0.2em;position: relative;}#sk-container-id-1 div.sk-item {position: relative;z-index: 1;}#sk-container-id-1 div.sk-parallel {display: flex;align-items: stretch;justify-content: center;background-color: white;position: relative;}#sk-container-id-1 div.sk-item::before, #sk-container-id-1 div.sk-parallel-item::before {content: \"\";position: absolute;border-left: 1px solid gray;box-sizing: border-box;top: 0;bottom: 0;left: 50%;z-index: -1;}#sk-container-id-1 div.sk-parallel-item {display: flex;flex-direction: column;z-index: 1;position: relative;background-color: white;}#sk-container-id-1 div.sk-parallel-item:first-child::after {align-self: flex-end;width: 50%;}#sk-container-id-1 div.sk-parallel-item:last-child::after {align-self: flex-start;width: 50%;}#sk-container-id-1 div.sk-parallel-item:only-child::after {width: 0;}#sk-container-id-1 div.sk-dashed-wrapped {border: 1px dashed gray;margin: 0 0.4em 0.5em 0.4em;box-sizing: border-box;padding-bottom: 0.4em;background-color: white;}#sk-container-id-1 div.sk-label label {font-family: monospace;font-weight: bold;display: inline-block;line-height: 1.2em;}#sk-container-id-1 div.sk-label-container {text-align: center;}#sk-container-id-1 div.sk-container {/* jupyter's `normalize.less` sets `[hidden] { display: none; }` but bootstrap.min.css set `[hidden] { display: none !important; }` so we also need the `!important` here to be able to override the default hidden behavior on the sphinx rendered scikit-learn.org. See: https://github.com/scikit-learn/scikit-learn/issues/21755 */display: inline-block !important;position: relative;}#sk-container-id-1 div.sk-text-repr-fallback {display: none;}</style><div id=\"sk-container-id-1\" class=\"sk-top-container\"><div class=\"sk-text-repr-fallback\"><pre>RandomForestRegressor()</pre><b>In a Jupyter environment, please rerun this cell to show the HTML representation or trust the notebook. <br />On GitHub, the HTML representation is unable to render, please try loading this page with nbviewer.org.</b></div><div class=\"sk-container\" hidden><div class=\"sk-item\"><div class=\"sk-estimator sk-toggleable\"><input class=\"sk-toggleable__control sk-hidden--visually\" id=\"sk-estimator-id-1\" type=\"checkbox\" checked><label for=\"sk-estimator-id-1\" class=\"sk-toggleable__label sk-toggleable__label-arrow\">RandomForestRegressor</label><div class=\"sk-toggleable__content\"><pre>RandomForestRegressor()</pre></div></div></div></div></div>"
            ]
          },
          "metadata": {},
          "execution_count": 109
        }
      ]
    },
    {
      "cell_type": "code",
      "source": [
        "from sklearn.pipeline import Pipeline\n",
        "from sklearn.preprocessing import FunctionTransformer\n",
        "transformer = FunctionTransformer(prepro_vect)"
      ],
      "metadata": {
        "id": "2aLVHDqhojz2"
      },
      "execution_count": 111,
      "outputs": []
    },
    {
      "cell_type": "code",
      "source": [
        "clf=Pipeline([\n",
        "    (\"vect\",transformer),\n",
        "    (\"rf\",RandomForestRegressor())\n",
        "])"
      ],
      "metadata": {
        "id": "jwpfm_Luskbf"
      },
      "execution_count": 112,
      "outputs": []
    },
    {
      "cell_type": "code",
      "source": [
        "clf"
      ],
      "metadata": {
        "colab": {
          "base_uri": "https://localhost:8080/",
          "height": 125
        },
        "id": "jgQSJm6FtXUN",
        "outputId": "a94b7fcb-90bc-4c10-b051-6c40e444ea14"
      },
      "execution_count": 148,
      "outputs": [
        {
          "output_type": "execute_result",
          "data": {
            "text/plain": [
              "Pipeline(steps=[('vect',\n",
              "                 FunctionTransformer(func=<function prepro_vect at 0x7d5a20416b00>)),\n",
              "                ('rf', RandomForestRegressor())])"
            ],
            "text/html": [
              "<style>#sk-container-id-3 {color: black;background-color: white;}#sk-container-id-3 pre{padding: 0;}#sk-container-id-3 div.sk-toggleable {background-color: white;}#sk-container-id-3 label.sk-toggleable__label {cursor: pointer;display: block;width: 100%;margin-bottom: 0;padding: 0.3em;box-sizing: border-box;text-align: center;}#sk-container-id-3 label.sk-toggleable__label-arrow:before {content: \"▸\";float: left;margin-right: 0.25em;color: #696969;}#sk-container-id-3 label.sk-toggleable__label-arrow:hover:before {color: black;}#sk-container-id-3 div.sk-estimator:hover label.sk-toggleable__label-arrow:before {color: black;}#sk-container-id-3 div.sk-toggleable__content {max-height: 0;max-width: 0;overflow: hidden;text-align: left;background-color: #f0f8ff;}#sk-container-id-3 div.sk-toggleable__content pre {margin: 0.2em;color: black;border-radius: 0.25em;background-color: #f0f8ff;}#sk-container-id-3 input.sk-toggleable__control:checked~div.sk-toggleable__content {max-height: 200px;max-width: 100%;overflow: auto;}#sk-container-id-3 input.sk-toggleable__control:checked~label.sk-toggleable__label-arrow:before {content: \"▾\";}#sk-container-id-3 div.sk-estimator input.sk-toggleable__control:checked~label.sk-toggleable__label {background-color: #d4ebff;}#sk-container-id-3 div.sk-label input.sk-toggleable__control:checked~label.sk-toggleable__label {background-color: #d4ebff;}#sk-container-id-3 input.sk-hidden--visually {border: 0;clip: rect(1px 1px 1px 1px);clip: rect(1px, 1px, 1px, 1px);height: 1px;margin: -1px;overflow: hidden;padding: 0;position: absolute;width: 1px;}#sk-container-id-3 div.sk-estimator {font-family: monospace;background-color: #f0f8ff;border: 1px dotted black;border-radius: 0.25em;box-sizing: border-box;margin-bottom: 0.5em;}#sk-container-id-3 div.sk-estimator:hover {background-color: #d4ebff;}#sk-container-id-3 div.sk-parallel-item::after {content: \"\";width: 100%;border-bottom: 1px solid gray;flex-grow: 1;}#sk-container-id-3 div.sk-label:hover label.sk-toggleable__label {background-color: #d4ebff;}#sk-container-id-3 div.sk-serial::before {content: \"\";position: absolute;border-left: 1px solid gray;box-sizing: border-box;top: 0;bottom: 0;left: 50%;z-index: 0;}#sk-container-id-3 div.sk-serial {display: flex;flex-direction: column;align-items: center;background-color: white;padding-right: 0.2em;padding-left: 0.2em;position: relative;}#sk-container-id-3 div.sk-item {position: relative;z-index: 1;}#sk-container-id-3 div.sk-parallel {display: flex;align-items: stretch;justify-content: center;background-color: white;position: relative;}#sk-container-id-3 div.sk-item::before, #sk-container-id-3 div.sk-parallel-item::before {content: \"\";position: absolute;border-left: 1px solid gray;box-sizing: border-box;top: 0;bottom: 0;left: 50%;z-index: -1;}#sk-container-id-3 div.sk-parallel-item {display: flex;flex-direction: column;z-index: 1;position: relative;background-color: white;}#sk-container-id-3 div.sk-parallel-item:first-child::after {align-self: flex-end;width: 50%;}#sk-container-id-3 div.sk-parallel-item:last-child::after {align-self: flex-start;width: 50%;}#sk-container-id-3 div.sk-parallel-item:only-child::after {width: 0;}#sk-container-id-3 div.sk-dashed-wrapped {border: 1px dashed gray;margin: 0 0.4em 0.5em 0.4em;box-sizing: border-box;padding-bottom: 0.4em;background-color: white;}#sk-container-id-3 div.sk-label label {font-family: monospace;font-weight: bold;display: inline-block;line-height: 1.2em;}#sk-container-id-3 div.sk-label-container {text-align: center;}#sk-container-id-3 div.sk-container {/* jupyter's `normalize.less` sets `[hidden] { display: none; }` but bootstrap.min.css set `[hidden] { display: none !important; }` so we also need the `!important` here to be able to override the default hidden behavior on the sphinx rendered scikit-learn.org. See: https://github.com/scikit-learn/scikit-learn/issues/21755 */display: inline-block !important;position: relative;}#sk-container-id-3 div.sk-text-repr-fallback {display: none;}</style><div id=\"sk-container-id-3\" class=\"sk-top-container\"><div class=\"sk-text-repr-fallback\"><pre>Pipeline(steps=[(&#x27;vect&#x27;,\n",
              "                 FunctionTransformer(func=&lt;function prepro_vect at 0x7d5a20416b00&gt;)),\n",
              "                (&#x27;rf&#x27;, RandomForestRegressor())])</pre><b>In a Jupyter environment, please rerun this cell to show the HTML representation or trust the notebook. <br />On GitHub, the HTML representation is unable to render, please try loading this page with nbviewer.org.</b></div><div class=\"sk-container\" hidden><div class=\"sk-item sk-dashed-wrapped\"><div class=\"sk-label-container\"><div class=\"sk-label sk-toggleable\"><input class=\"sk-toggleable__control sk-hidden--visually\" id=\"sk-estimator-id-5\" type=\"checkbox\" ><label for=\"sk-estimator-id-5\" class=\"sk-toggleable__label sk-toggleable__label-arrow\">Pipeline</label><div class=\"sk-toggleable__content\"><pre>Pipeline(steps=[(&#x27;vect&#x27;,\n",
              "                 FunctionTransformer(func=&lt;function prepro_vect at 0x7d5a20416b00&gt;)),\n",
              "                (&#x27;rf&#x27;, RandomForestRegressor())])</pre></div></div></div><div class=\"sk-serial\"><div class=\"sk-item\"><div class=\"sk-estimator sk-toggleable\"><input class=\"sk-toggleable__control sk-hidden--visually\" id=\"sk-estimator-id-6\" type=\"checkbox\" ><label for=\"sk-estimator-id-6\" class=\"sk-toggleable__label sk-toggleable__label-arrow\">FunctionTransformer</label><div class=\"sk-toggleable__content\"><pre>FunctionTransformer(func=&lt;function prepro_vect at 0x7d5a20416b00&gt;)</pre></div></div></div><div class=\"sk-item\"><div class=\"sk-estimator sk-toggleable\"><input class=\"sk-toggleable__control sk-hidden--visually\" id=\"sk-estimator-id-7\" type=\"checkbox\" ><label for=\"sk-estimator-id-7\" class=\"sk-toggleable__label sk-toggleable__label-arrow\">RandomForestRegressor</label><div class=\"sk-toggleable__content\"><pre>RandomForestRegressor()</pre></div></div></div></div></div></div></div>"
            ]
          },
          "metadata": {},
          "execution_count": 148
        }
      ]
    },
    {
      "cell_type": "code",
      "source": [
        "import joblib\n",
        "joblib.dump(clf,\"clf_w2v.pkl\")"
      ],
      "metadata": {
        "colab": {
          "base_uri": "https://localhost:8080/"
        },
        "id": "2k4RF20AzsTR",
        "outputId": "7db9a26c-3c50-402a-b1c8-55b9188245c8"
      },
      "execution_count": 167,
      "outputs": [
        {
          "output_type": "execute_result",
          "data": {
            "text/plain": [
              "['clf_w2v.pkl']"
            ]
          },
          "metadata": {},
          "execution_count": 167
        }
      ]
    },
    {
      "cell_type": "code",
      "source": [
        "y_pred=rf.predict(X_test)"
      ],
      "metadata": {
        "id": "OdmY8ESBtpms"
      },
      "execution_count": 151,
      "outputs": []
    },
    {
      "cell_type": "code",
      "source": [
        "y_pred[:5]"
      ],
      "metadata": {
        "colab": {
          "base_uri": "https://localhost:8080/"
        },
        "id": "-_FHh3a0xwKk",
        "outputId": "f6127ff4-79c0-46ad-afa5-1080febd615f"
      },
      "execution_count": 163,
      "outputs": [
        {
          "output_type": "execute_result",
          "data": {
            "text/plain": [
              "array([0, 0, 0, 0, 0])"
            ]
          },
          "metadata": {},
          "execution_count": 163
        }
      ]
    },
    {
      "cell_type": "code",
      "source": [
        "y_test[:5]"
      ],
      "metadata": {
        "colab": {
          "base_uri": "https://localhost:8080/"
        },
        "id": "0ou9vKJmxxRt",
        "outputId": "731b7e8b-93ba-4dff-f496-2d34da96179c"
      },
      "execution_count": 164,
      "outputs": [
        {
          "output_type": "execute_result",
          "data": {
            "text/plain": [
              "array([[0],\n",
              "       [0],\n",
              "       [1],\n",
              "       [0],\n",
              "       [0]])"
            ]
          },
          "metadata": {},
          "execution_count": 164
        }
      ]
    },
    {
      "cell_type": "code",
      "source": [
        "accuracy_count=0.978134110787172\n",
        "accuracy_tfidf=0.9686028257456829\n",
        "accuracy3_w2v=0.9935698523488256"
      ],
      "metadata": {
        "id": "t9XqYt22x7Aw"
      },
      "execution_count": 165,
      "outputs": []
    },
    {
      "cell_type": "code",
      "source": [
        "import matplotlib.pyplot as plt\n",
        "methods = ['Count Vectorizer', 'TF-IDF Vectorizer', 'Word2Vec']\n",
        "accuracy_scores = [0.978134110787172, 0.9686028257456829, 0.9935698523488256]\n",
        "plt.figure(figsize=(10, 6))\n",
        "bars = plt.bar(methods, accuracy_scores, color=['blue', 'green', 'orange'])\n",
        "for bar, score in zip(bars, accuracy_scores):\n",
        "    yval = bar.get_height()\n",
        "    plt.text(bar.get_x() + bar.get_width()/2, yval, round(score, 4), ha='center', va='bottom', fontsize=10)\n",
        "\n",
        "plt.title('Comparison of Accuracy Scores', fontsize=16)\n",
        "plt.xlabel('Methods', fontsize=14)\n",
        "plt.ylabel('Accuracy', fontsize=14)\n",
        "plt.ylim(0.95, 1.0)\n",
        "plt.tight_layout()\n",
        "plt.grid(axis='y', linestyle='--', alpha=0.7)\n",
        "plt.show()\n"
      ],
      "metadata": {
        "colab": {
          "base_uri": "https://localhost:8080/",
          "height": 607
        },
        "id": "IdNyX58CyA80",
        "outputId": "48c6c4a8-94b1-4294-9f42-0202124c4167"
      },
      "execution_count": 166,
      "outputs": [
        {
          "output_type": "display_data",
          "data": {
            "text/plain": [
              "<Figure size 1000x600 with 1 Axes>"
            ],
            "image/png": "[encoded data removed]"
          },
          "metadata": {}
        }
      ]
    },
    {
      "cell_type": "code",
      "source": [],
      "metadata": {
        "id": "AY8MDMldzeuo"
      },
      "execution_count": 169,
      "outputs": []
    },
    {
      "cell_type": "code",
      "source": [],
      "metadata": {
        "id": "bg1cMMlA0yMv"
      },
      "execution_count": null,
      "outputs": []
    }
  ]
}